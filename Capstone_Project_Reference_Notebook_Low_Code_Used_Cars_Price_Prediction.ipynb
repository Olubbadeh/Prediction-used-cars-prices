{
  "cells": [
    {
      "cell_type": "markdown",
      "metadata": {
        "id": "UlqYJ7oql3o1"
      },
      "source": [
        "# **Used Cars Price Prediction**"
      ]
    },
    {
      "cell_type": "markdown",
      "metadata": {
        "id": "7AYx75_WoxUj"
      },
      "source": [
        "## **Problem Definition**\n",
        "\n",
        "### **The Context:**\n",
        "\n",
        " - Why is this problem important to solve?\n",
        "\n",
        "### **The objective:**\n",
        "\n",
        " - What is the intended goal?\n",
        "\n",
        "### **The key questions:**\n",
        "\n",
        "- What are the key questions that need to be answered?\n",
        "\n",
        "### **The problem formulation**:\n",
        "\n",
        "- What is it that we are trying to solve using data science?"
      ]
    },
    {
      "cell_type": "markdown",
      "metadata": {
        "id": "J-JZtcBYtOSb"
      },
      "source": [
        "### **Data Dictionary**\n",
        "\n",
        "**S.No.** : Serial Number\n",
        "\n",
        "**Name** : Name of the car which includes Brand name and Model name\n",
        "\n",
        "**Location** : The location in which the car is being sold or is available for purchase (Cities)\n",
        "\n",
        "**Year** : Manufacturing year of the car\n",
        "\n",
        "**Kilometers_driven** : The total kilometers driven in the car by the previous owner(s) in KM\n",
        "\n",
        "**Fuel_Type** : The type of fuel used by the car (Petrol, Diesel, Electric, CNG, LPG)\n",
        "\n",
        "**Transmission** : The type of transmission used by the car (Automatic / Manual)\n",
        "\n",
        "**Owner** : Type of ownership\n",
        "\n",
        "**Mileage** : The standard mileage offered by the car company in kmpl or km/kg\n",
        "\n",
        "**Engine** : The displacement volume of the engine in CC\n",
        "\n",
        "**Power** : The maximum power of the engine in bhp\n",
        "\n",
        "**Seats** : The number of seats in the car\n",
        "\n",
        "**New_Price** : The price of a new car of the same model in INR 100,000\n",
        "\n",
        "**Price** : The price of the used car in INR 100,000 (**Target Variable**)"
      ]
    },
    {
      "cell_type": "markdown",
      "metadata": {
        "id": "8AqyAIRRVL3P"
      },
      "source": [
        "## **Important Notes**\n",
        "\n",
        "- This notebook can be considered a guide to refer to while solving the problem. The evaluation will be as per the Rubric shared for the Capstone. Unlike previous courses, it does not follow the pattern of the graded questions in different sections. This notebook will give you a direction on what steps need to be taken in order to get a viable solution to the problem. Please note that this is just one way of doing this. There can be other 'creative' ways to solve the problem and we urge you to feel free and explore them as an 'optional' exercise.\n",
        "\n",
        "- In the notebook, there are markdown cells called - Observations and Insights. It is a good practice to provide observations and extract insights from the outputs.\n",
        "\n",
        "- The naming convention for different variables can vary. Please consider the code provided in this notebook as a sample code.\n",
        "\n",
        "- All the outputs in the notebook are just for reference and can be different if you follow a different approach.\n",
        "\n",
        "- There are sections called **Think About It** in the notebook that will help you get a better understanding of the reasoning behind a particular technique/step. Interested learners can take alternative approaches if they wish to explore different techniques."
      ]
    },
    {
      "cell_type": "markdown",
      "metadata": {
        "id": "rlLoEhsbtOSg"
      },
      "source": [
        "### **Loading libraries**"
      ]
    },
    {
      "cell_type": "code",
      "execution_count": 1,
      "metadata": {
        "id": "8J9KZGl9tOSh"
      },
      "outputs": [],
      "source": [
        "# Import required libraries\n",
        "import pandas as pd\n",
        "import numpy as np\n",
        "\n",
        "import matplotlib.pyplot as plt\n",
        "import seaborn as sns\n",
        "\n",
        "# To ignore warnings\n",
        "import warnings\n",
        "warnings.filterwarnings('ignore')\n",
        "\n",
        "# Remove the limit from the number of displayed columns and rows. It helps to see the entire dataframe while printing it\n",
        "pd.set_option(\"display.max_columns\", None)"
      ]
    },
    {
      "cell_type": "markdown",
      "metadata": {
        "id": "baG7rS5FtOSh"
      },
      "source": [
        "### **Let us load the data**"
      ]
    },
    {
      "cell_type": "code",
      "execution_count": 2,
      "metadata": {
        "id": "flK0muyhtOSi"
      },
      "outputs": [],
      "source": [
        "data = pd.read_csv(\"/content/used_cars.csv\")"
      ]
    },
    {
      "cell_type": "markdown",
      "metadata": {
        "id": "63k9imdMtOSi"
      },
      "source": [
        "### **Understand the data by observing a few rows**"
      ]
    },
    {
      "cell_type": "code",
      "execution_count": 3,
      "metadata": {
        "id": "rrVFKlXXtOSi",
        "colab": {
          "base_uri": "https://localhost:8080/",
          "height": 206
        },
        "outputId": "c86ed28f-0a39-4e3f-ea6b-10b5ba6c8e62"
      },
      "outputs": [
        {
          "output_type": "execute_result",
          "data": {
            "text/plain": [
              "   S.No.                              Name    Location  Year  \\\n",
              "0      0            Maruti Wagon R LXI CNG      Mumbai  2010   \n",
              "1      1  Hyundai Creta 1.6 CRDi SX Option        Pune  2015   \n",
              "2      2                      Honda Jazz V     Chennai  2011   \n",
              "3      3                 Maruti Ertiga VDI     Chennai  2012   \n",
              "4      4   Audi A4 New 2.0 TDI Multitronic  Coimbatore  2013   \n",
              "\n",
              "   Kilometers_Driven Fuel_Type Transmission Owner_Type  Mileage  Engine  \\\n",
              "0              72000       CNG       Manual      First    26.60   998.0   \n",
              "1              41000    Diesel       Manual      First    19.67  1582.0   \n",
              "2              46000    Petrol       Manual      First    18.20  1199.0   \n",
              "3              87000    Diesel       Manual      First    20.77  1248.0   \n",
              "4              40670    Diesel    Automatic     Second    15.20  1968.0   \n",
              "\n",
              "    Power  Seats  New_price  Price  \n",
              "0   58.16    5.0        NaN   1.75  \n",
              "1  126.20    5.0        NaN  12.50  \n",
              "2   88.70    5.0       8.61   4.50  \n",
              "3   88.76    7.0        NaN   6.00  \n",
              "4  140.80    5.0        NaN  17.74  "
            ],
            "text/html": [
              "\n",
              "  <div id=\"df-666478a0-7274-4e08-8756-b9fbce9e6668\">\n",
              "    <div class=\"colab-df-container\">\n",
              "      <div>\n",
              "<style scoped>\n",
              "    .dataframe tbody tr th:only-of-type {\n",
              "        vertical-align: middle;\n",
              "    }\n",
              "\n",
              "    .dataframe tbody tr th {\n",
              "        vertical-align: top;\n",
              "    }\n",
              "\n",
              "    .dataframe thead th {\n",
              "        text-align: right;\n",
              "    }\n",
              "</style>\n",
              "<table border=\"1\" class=\"dataframe\">\n",
              "  <thead>\n",
              "    <tr style=\"text-align: right;\">\n",
              "      <th></th>\n",
              "      <th>S.No.</th>\n",
              "      <th>Name</th>\n",
              "      <th>Location</th>\n",
              "      <th>Year</th>\n",
              "      <th>Kilometers_Driven</th>\n",
              "      <th>Fuel_Type</th>\n",
              "      <th>Transmission</th>\n",
              "      <th>Owner_Type</th>\n",
              "      <th>Mileage</th>\n",
              "      <th>Engine</th>\n",
              "      <th>Power</th>\n",
              "      <th>Seats</th>\n",
              "      <th>New_price</th>\n",
              "      <th>Price</th>\n",
              "    </tr>\n",
              "  </thead>\n",
              "  <tbody>\n",
              "    <tr>\n",
              "      <th>0</th>\n",
              "      <td>0</td>\n",
              "      <td>Maruti Wagon R LXI CNG</td>\n",
              "      <td>Mumbai</td>\n",
              "      <td>2010</td>\n",
              "      <td>72000</td>\n",
              "      <td>CNG</td>\n",
              "      <td>Manual</td>\n",
              "      <td>First</td>\n",
              "      <td>26.60</td>\n",
              "      <td>998.0</td>\n",
              "      <td>58.16</td>\n",
              "      <td>5.0</td>\n",
              "      <td>NaN</td>\n",
              "      <td>1.75</td>\n",
              "    </tr>\n",
              "    <tr>\n",
              "      <th>1</th>\n",
              "      <td>1</td>\n",
              "      <td>Hyundai Creta 1.6 CRDi SX Option</td>\n",
              "      <td>Pune</td>\n",
              "      <td>2015</td>\n",
              "      <td>41000</td>\n",
              "      <td>Diesel</td>\n",
              "      <td>Manual</td>\n",
              "      <td>First</td>\n",
              "      <td>19.67</td>\n",
              "      <td>1582.0</td>\n",
              "      <td>126.20</td>\n",
              "      <td>5.0</td>\n",
              "      <td>NaN</td>\n",
              "      <td>12.50</td>\n",
              "    </tr>\n",
              "    <tr>\n",
              "      <th>2</th>\n",
              "      <td>2</td>\n",
              "      <td>Honda Jazz V</td>\n",
              "      <td>Chennai</td>\n",
              "      <td>2011</td>\n",
              "      <td>46000</td>\n",
              "      <td>Petrol</td>\n",
              "      <td>Manual</td>\n",
              "      <td>First</td>\n",
              "      <td>18.20</td>\n",
              "      <td>1199.0</td>\n",
              "      <td>88.70</td>\n",
              "      <td>5.0</td>\n",
              "      <td>8.61</td>\n",
              "      <td>4.50</td>\n",
              "    </tr>\n",
              "    <tr>\n",
              "      <th>3</th>\n",
              "      <td>3</td>\n",
              "      <td>Maruti Ertiga VDI</td>\n",
              "      <td>Chennai</td>\n",
              "      <td>2012</td>\n",
              "      <td>87000</td>\n",
              "      <td>Diesel</td>\n",
              "      <td>Manual</td>\n",
              "      <td>First</td>\n",
              "      <td>20.77</td>\n",
              "      <td>1248.0</td>\n",
              "      <td>88.76</td>\n",
              "      <td>7.0</td>\n",
              "      <td>NaN</td>\n",
              "      <td>6.00</td>\n",
              "    </tr>\n",
              "    <tr>\n",
              "      <th>4</th>\n",
              "      <td>4</td>\n",
              "      <td>Audi A4 New 2.0 TDI Multitronic</td>\n",
              "      <td>Coimbatore</td>\n",
              "      <td>2013</td>\n",
              "      <td>40670</td>\n",
              "      <td>Diesel</td>\n",
              "      <td>Automatic</td>\n",
              "      <td>Second</td>\n",
              "      <td>15.20</td>\n",
              "      <td>1968.0</td>\n",
              "      <td>140.80</td>\n",
              "      <td>5.0</td>\n",
              "      <td>NaN</td>\n",
              "      <td>17.74</td>\n",
              "    </tr>\n",
              "  </tbody>\n",
              "</table>\n",
              "</div>\n",
              "      <button class=\"colab-df-convert\" onclick=\"convertToInteractive('df-666478a0-7274-4e08-8756-b9fbce9e6668')\"\n",
              "              title=\"Convert this dataframe to an interactive table.\"\n",
              "              style=\"display:none;\">\n",
              "        \n",
              "  <svg xmlns=\"http://www.w3.org/2000/svg\" height=\"24px\"viewBox=\"0 0 24 24\"\n",
              "       width=\"24px\">\n",
              "    <path d=\"M0 0h24v24H0V0z\" fill=\"none\"/>\n",
              "    <path d=\"M18.56 5.44l.94 2.06.94-2.06 2.06-.94-2.06-.94-.94-2.06-.94 2.06-2.06.94zm-11 1L8.5 8.5l.94-2.06 2.06-.94-2.06-.94L8.5 2.5l-.94 2.06-2.06.94zm10 10l.94 2.06.94-2.06 2.06-.94-2.06-.94-.94-2.06-.94 2.06-2.06.94z\"/><path d=\"M17.41 7.96l-1.37-1.37c-.4-.4-.92-.59-1.43-.59-.52 0-1.04.2-1.43.59L10.3 9.45l-7.72 7.72c-.78.78-.78 2.05 0 2.83L4 21.41c.39.39.9.59 1.41.59.51 0 1.02-.2 1.41-.59l7.78-7.78 2.81-2.81c.8-.78.8-2.07 0-2.86zM5.41 20L4 18.59l7.72-7.72 1.47 1.35L5.41 20z\"/>\n",
              "  </svg>\n",
              "      </button>\n",
              "      \n",
              "  <style>\n",
              "    .colab-df-container {\n",
              "      display:flex;\n",
              "      flex-wrap:wrap;\n",
              "      gap: 12px;\n",
              "    }\n",
              "\n",
              "    .colab-df-convert {\n",
              "      background-color: #E8F0FE;\n",
              "      border: none;\n",
              "      border-radius: 50%;\n",
              "      cursor: pointer;\n",
              "      display: none;\n",
              "      fill: #1967D2;\n",
              "      height: 32px;\n",
              "      padding: 0 0 0 0;\n",
              "      width: 32px;\n",
              "    }\n",
              "\n",
              "    .colab-df-convert:hover {\n",
              "      background-color: #E2EBFA;\n",
              "      box-shadow: 0px 1px 2px rgba(60, 64, 67, 0.3), 0px 1px 3px 1px rgba(60, 64, 67, 0.15);\n",
              "      fill: #174EA6;\n",
              "    }\n",
              "\n",
              "    [theme=dark] .colab-df-convert {\n",
              "      background-color: #3B4455;\n",
              "      fill: #D2E3FC;\n",
              "    }\n",
              "\n",
              "    [theme=dark] .colab-df-convert:hover {\n",
              "      background-color: #434B5C;\n",
              "      box-shadow: 0px 1px 3px 1px rgba(0, 0, 0, 0.15);\n",
              "      filter: drop-shadow(0px 1px 2px rgba(0, 0, 0, 0.3));\n",
              "      fill: #FFFFFF;\n",
              "    }\n",
              "  </style>\n",
              "\n",
              "      <script>\n",
              "        const buttonEl =\n",
              "          document.querySelector('#df-666478a0-7274-4e08-8756-b9fbce9e6668 button.colab-df-convert');\n",
              "        buttonEl.style.display =\n",
              "          google.colab.kernel.accessAllowed ? 'block' : 'none';\n",
              "\n",
              "        async function convertToInteractive(key) {\n",
              "          const element = document.querySelector('#df-666478a0-7274-4e08-8756-b9fbce9e6668');\n",
              "          const dataTable =\n",
              "            await google.colab.kernel.invokeFunction('convertToInteractive',\n",
              "                                                     [key], {});\n",
              "          if (!dataTable) return;\n",
              "\n",
              "          const docLinkHtml = 'Like what you see? Visit the ' +\n",
              "            '<a target=\"_blank\" href=https://colab.research.google.com/notebooks/data_table.ipynb>data table notebook</a>'\n",
              "            + ' to learn more about interactive tables.';\n",
              "          element.innerHTML = '';\n",
              "          dataTable['output_type'] = 'display_data';\n",
              "          await google.colab.output.renderOutput(dataTable, element);\n",
              "          const docLink = document.createElement('div');\n",
              "          docLink.innerHTML = docLinkHtml;\n",
              "          element.appendChild(docLink);\n",
              "        }\n",
              "      </script>\n",
              "    </div>\n",
              "  </div>\n",
              "  "
            ]
          },
          "metadata": {},
          "execution_count": 3
        }
      ],
      "source": [
        "# View first 5 rows\n",
        "data.head(5)"
      ]
    },
    {
      "cell_type": "code",
      "execution_count": 4,
      "metadata": {
        "id": "7oeTruANtOSj",
        "colab": {
          "base_uri": "https://localhost:8080/",
          "height": 206
        },
        "outputId": "c4b92655-2c73-44db-89fa-07ca5eeecde6"
      },
      "outputs": [
        {
          "output_type": "execute_result",
          "data": {
            "text/plain": [
              "      S.No.                                               Name   Location  \\\n",
              "7248   7248                  Volkswagen Vento Diesel Trendline  Hyderabad   \n",
              "7249   7249                             Volkswagen Polo GT TSI     Mumbai   \n",
              "7250   7250                             Nissan Micra Diesel XV    Kolkata   \n",
              "7251   7251                             Volkswagen Polo GT TSI       Pune   \n",
              "7252   7252  Mercedes-Benz E-Class 2009-2013 E 220 CDI Avan...      Kochi   \n",
              "\n",
              "      Year  Kilometers_Driven Fuel_Type Transmission Owner_Type  Mileage  \\\n",
              "7248  2011              89411    Diesel       Manual      First    20.54   \n",
              "7249  2015              59000    Petrol    Automatic      First    17.21   \n",
              "7250  2012              28000    Diesel       Manual      First    23.08   \n",
              "7251  2013              52262    Petrol    Automatic      Third    17.20   \n",
              "7252  2014              72443    Diesel    Automatic      First    10.00   \n",
              "\n",
              "      Engine  Power  Seats  New_price  Price  \n",
              "7248  1598.0  103.6    5.0        NaN    NaN  \n",
              "7249  1197.0  103.6    5.0        NaN    NaN  \n",
              "7250  1461.0   63.1    5.0        NaN    NaN  \n",
              "7251  1197.0  103.6    5.0        NaN    NaN  \n",
              "7252  2148.0  170.0    5.0        NaN    NaN  "
            ],
            "text/html": [
              "\n",
              "  <div id=\"df-2db7bb6c-6214-41f2-9e9b-3f13a4c59939\">\n",
              "    <div class=\"colab-df-container\">\n",
              "      <div>\n",
              "<style scoped>\n",
              "    .dataframe tbody tr th:only-of-type {\n",
              "        vertical-align: middle;\n",
              "    }\n",
              "\n",
              "    .dataframe tbody tr th {\n",
              "        vertical-align: top;\n",
              "    }\n",
              "\n",
              "    .dataframe thead th {\n",
              "        text-align: right;\n",
              "    }\n",
              "</style>\n",
              "<table border=\"1\" class=\"dataframe\">\n",
              "  <thead>\n",
              "    <tr style=\"text-align: right;\">\n",
              "      <th></th>\n",
              "      <th>S.No.</th>\n",
              "      <th>Name</th>\n",
              "      <th>Location</th>\n",
              "      <th>Year</th>\n",
              "      <th>Kilometers_Driven</th>\n",
              "      <th>Fuel_Type</th>\n",
              "      <th>Transmission</th>\n",
              "      <th>Owner_Type</th>\n",
              "      <th>Mileage</th>\n",
              "      <th>Engine</th>\n",
              "      <th>Power</th>\n",
              "      <th>Seats</th>\n",
              "      <th>New_price</th>\n",
              "      <th>Price</th>\n",
              "    </tr>\n",
              "  </thead>\n",
              "  <tbody>\n",
              "    <tr>\n",
              "      <th>7248</th>\n",
              "      <td>7248</td>\n",
              "      <td>Volkswagen Vento Diesel Trendline</td>\n",
              "      <td>Hyderabad</td>\n",
              "      <td>2011</td>\n",
              "      <td>89411</td>\n",
              "      <td>Diesel</td>\n",
              "      <td>Manual</td>\n",
              "      <td>First</td>\n",
              "      <td>20.54</td>\n",
              "      <td>1598.0</td>\n",
              "      <td>103.6</td>\n",
              "      <td>5.0</td>\n",
              "      <td>NaN</td>\n",
              "      <td>NaN</td>\n",
              "    </tr>\n",
              "    <tr>\n",
              "      <th>7249</th>\n",
              "      <td>7249</td>\n",
              "      <td>Volkswagen Polo GT TSI</td>\n",
              "      <td>Mumbai</td>\n",
              "      <td>2015</td>\n",
              "      <td>59000</td>\n",
              "      <td>Petrol</td>\n",
              "      <td>Automatic</td>\n",
              "      <td>First</td>\n",
              "      <td>17.21</td>\n",
              "      <td>1197.0</td>\n",
              "      <td>103.6</td>\n",
              "      <td>5.0</td>\n",
              "      <td>NaN</td>\n",
              "      <td>NaN</td>\n",
              "    </tr>\n",
              "    <tr>\n",
              "      <th>7250</th>\n",
              "      <td>7250</td>\n",
              "      <td>Nissan Micra Diesel XV</td>\n",
              "      <td>Kolkata</td>\n",
              "      <td>2012</td>\n",
              "      <td>28000</td>\n",
              "      <td>Diesel</td>\n",
              "      <td>Manual</td>\n",
              "      <td>First</td>\n",
              "      <td>23.08</td>\n",
              "      <td>1461.0</td>\n",
              "      <td>63.1</td>\n",
              "      <td>5.0</td>\n",
              "      <td>NaN</td>\n",
              "      <td>NaN</td>\n",
              "    </tr>\n",
              "    <tr>\n",
              "      <th>7251</th>\n",
              "      <td>7251</td>\n",
              "      <td>Volkswagen Polo GT TSI</td>\n",
              "      <td>Pune</td>\n",
              "      <td>2013</td>\n",
              "      <td>52262</td>\n",
              "      <td>Petrol</td>\n",
              "      <td>Automatic</td>\n",
              "      <td>Third</td>\n",
              "      <td>17.20</td>\n",
              "      <td>1197.0</td>\n",
              "      <td>103.6</td>\n",
              "      <td>5.0</td>\n",
              "      <td>NaN</td>\n",
              "      <td>NaN</td>\n",
              "    </tr>\n",
              "    <tr>\n",
              "      <th>7252</th>\n",
              "      <td>7252</td>\n",
              "      <td>Mercedes-Benz E-Class 2009-2013 E 220 CDI Avan...</td>\n",
              "      <td>Kochi</td>\n",
              "      <td>2014</td>\n",
              "      <td>72443</td>\n",
              "      <td>Diesel</td>\n",
              "      <td>Automatic</td>\n",
              "      <td>First</td>\n",
              "      <td>10.00</td>\n",
              "      <td>2148.0</td>\n",
              "      <td>170.0</td>\n",
              "      <td>5.0</td>\n",
              "      <td>NaN</td>\n",
              "      <td>NaN</td>\n",
              "    </tr>\n",
              "  </tbody>\n",
              "</table>\n",
              "</div>\n",
              "      <button class=\"colab-df-convert\" onclick=\"convertToInteractive('df-2db7bb6c-6214-41f2-9e9b-3f13a4c59939')\"\n",
              "              title=\"Convert this dataframe to an interactive table.\"\n",
              "              style=\"display:none;\">\n",
              "        \n",
              "  <svg xmlns=\"http://www.w3.org/2000/svg\" height=\"24px\"viewBox=\"0 0 24 24\"\n",
              "       width=\"24px\">\n",
              "    <path d=\"M0 0h24v24H0V0z\" fill=\"none\"/>\n",
              "    <path d=\"M18.56 5.44l.94 2.06.94-2.06 2.06-.94-2.06-.94-.94-2.06-.94 2.06-2.06.94zm-11 1L8.5 8.5l.94-2.06 2.06-.94-2.06-.94L8.5 2.5l-.94 2.06-2.06.94zm10 10l.94 2.06.94-2.06 2.06-.94-2.06-.94-.94-2.06-.94 2.06-2.06.94z\"/><path d=\"M17.41 7.96l-1.37-1.37c-.4-.4-.92-.59-1.43-.59-.52 0-1.04.2-1.43.59L10.3 9.45l-7.72 7.72c-.78.78-.78 2.05 0 2.83L4 21.41c.39.39.9.59 1.41.59.51 0 1.02-.2 1.41-.59l7.78-7.78 2.81-2.81c.8-.78.8-2.07 0-2.86zM5.41 20L4 18.59l7.72-7.72 1.47 1.35L5.41 20z\"/>\n",
              "  </svg>\n",
              "      </button>\n",
              "      \n",
              "  <style>\n",
              "    .colab-df-container {\n",
              "      display:flex;\n",
              "      flex-wrap:wrap;\n",
              "      gap: 12px;\n",
              "    }\n",
              "\n",
              "    .colab-df-convert {\n",
              "      background-color: #E8F0FE;\n",
              "      border: none;\n",
              "      border-radius: 50%;\n",
              "      cursor: pointer;\n",
              "      display: none;\n",
              "      fill: #1967D2;\n",
              "      height: 32px;\n",
              "      padding: 0 0 0 0;\n",
              "      width: 32px;\n",
              "    }\n",
              "\n",
              "    .colab-df-convert:hover {\n",
              "      background-color: #E2EBFA;\n",
              "      box-shadow: 0px 1px 2px rgba(60, 64, 67, 0.3), 0px 1px 3px 1px rgba(60, 64, 67, 0.15);\n",
              "      fill: #174EA6;\n",
              "    }\n",
              "\n",
              "    [theme=dark] .colab-df-convert {\n",
              "      background-color: #3B4455;\n",
              "      fill: #D2E3FC;\n",
              "    }\n",
              "\n",
              "    [theme=dark] .colab-df-convert:hover {\n",
              "      background-color: #434B5C;\n",
              "      box-shadow: 0px 1px 3px 1px rgba(0, 0, 0, 0.15);\n",
              "      filter: drop-shadow(0px 1px 2px rgba(0, 0, 0, 0.3));\n",
              "      fill: #FFFFFF;\n",
              "    }\n",
              "  </style>\n",
              "\n",
              "      <script>\n",
              "        const buttonEl =\n",
              "          document.querySelector('#df-2db7bb6c-6214-41f2-9e9b-3f13a4c59939 button.colab-df-convert');\n",
              "        buttonEl.style.display =\n",
              "          google.colab.kernel.accessAllowed ? 'block' : 'none';\n",
              "\n",
              "        async function convertToInteractive(key) {\n",
              "          const element = document.querySelector('#df-2db7bb6c-6214-41f2-9e9b-3f13a4c59939');\n",
              "          const dataTable =\n",
              "            await google.colab.kernel.invokeFunction('convertToInteractive',\n",
              "                                                     [key], {});\n",
              "          if (!dataTable) return;\n",
              "\n",
              "          const docLinkHtml = 'Like what you see? Visit the ' +\n",
              "            '<a target=\"_blank\" href=https://colab.research.google.com/notebooks/data_table.ipynb>data table notebook</a>'\n",
              "            + ' to learn more about interactive tables.';\n",
              "          element.innerHTML = '';\n",
              "          dataTable['output_type'] = 'display_data';\n",
              "          await google.colab.output.renderOutput(dataTable, element);\n",
              "          const docLink = document.createElement('div');\n",
              "          docLink.innerHTML = docLinkHtml;\n",
              "          element.appendChild(docLink);\n",
              "        }\n",
              "      </script>\n",
              "    </div>\n",
              "  </div>\n",
              "  "
            ]
          },
          "metadata": {},
          "execution_count": 4
        }
      ],
      "source": [
        "# View last 5 rows Hint: Use tail() method\n",
        "data.tail(5)"
      ]
    },
    {
      "cell_type": "markdown",
      "metadata": {
        "id": "phPYdzpDtOSk"
      },
      "source": [
        "**Observations and Insights: Price & New Price have some missiing values\n"
      ]
    },
    {
      "cell_type": "markdown",
      "metadata": {
        "id": "T0h9uyJNVL3U"
      },
      "source": [
        "### **Let us check the data types and and missing values of each column**"
      ]
    },
    {
      "cell_type": "code",
      "execution_count": 8,
      "metadata": {
        "id": "r1jWwTJiVL3V",
        "colab": {
          "base_uri": "https://localhost:8080/"
        },
        "outputId": "ccb14e2c-265d-473f-d1c6-8d8acd614ffa"
      },
      "outputs": [
        {
          "output_type": "stream",
          "name": "stdout",
          "text": [
            "<class 'pandas.core.frame.DataFrame'>\n",
            "RangeIndex: 7253 entries, 0 to 7252\n",
            "Data columns (total 14 columns):\n",
            " #   Column             Non-Null Count  Dtype  \n",
            "---  ------             --------------  -----  \n",
            " 0   S.No.              7253 non-null   int64  \n",
            " 1   Name               7253 non-null   object \n",
            " 2   Location           7253 non-null   object \n",
            " 3   Year               7253 non-null   int64  \n",
            " 4   Kilometers_Driven  7253 non-null   int64  \n",
            " 5   Fuel_Type          7253 non-null   object \n",
            " 6   Transmission       7253 non-null   object \n",
            " 7   Owner_Type         7253 non-null   object \n",
            " 8   Mileage            7251 non-null   float64\n",
            " 9   Engine             7207 non-null   float64\n",
            " 10  Power              7078 non-null   float64\n",
            " 11  Seats              7200 non-null   float64\n",
            " 12  New_price          1006 non-null   float64\n",
            " 13  Price              6019 non-null   float64\n",
            "dtypes: float64(6), int64(3), object(5)\n",
            "memory usage: 793.4+ KB\n"
          ]
        }
      ],
      "source": [
        "# Check the datatypes of each column. Hint: Use info() method\n",
        "data.info()"
      ]
    },
    {
      "cell_type": "code",
      "source": [
        "data.columns()"
      ],
      "metadata": {
        "colab": {
          "base_uri": "https://localhost:8080/",
          "height": 166
        },
        "id": "Sw5myawJEPCs",
        "outputId": "3b997046-ada1-4174-abb7-560b16b13005"
      },
      "execution_count": 16,
      "outputs": [
        {
          "output_type": "error",
          "ename": "TypeError",
          "evalue": "ignored",
          "traceback": [
            "\u001b[0;31m---------------------------------------------------------------------------\u001b[0m",
            "\u001b[0;31mTypeError\u001b[0m                                 Traceback (most recent call last)",
            "\u001b[0;32m<ipython-input-16-05cf52d0a56e>\u001b[0m in \u001b[0;36m<cell line: 1>\u001b[0;34m()\u001b[0m\n\u001b[0;32m----> 1\u001b[0;31m \u001b[0mdata\u001b[0m\u001b[0;34m.\u001b[0m\u001b[0mcolumns\u001b[0m\u001b[0;34m(\u001b[0m\u001b[0;34m)\u001b[0m\u001b[0;34m\u001b[0m\u001b[0;34m\u001b[0m\u001b[0m\n\u001b[0m",
            "\u001b[0;31mTypeError\u001b[0m: 'Index' object is not callable"
          ]
        }
      ]
    },
    {
      "cell_type": "code",
      "execution_count": 12,
      "metadata": {
        "id": "7d0y0_sqVL3V",
        "colab": {
          "base_uri": "https://localhost:8080/"
        },
        "outputId": "a5169f7e-bcdb-4b54-ee2a-57e3f69ed33e"
      },
      "outputs": [
        {
          "output_type": "stream",
          "name": "stdout",
          "text": [
            "<class 'pandas.core.frame.DataFrame'>\n",
            "RangeIndex: 7253 entries, 0 to 7252\n",
            "Data columns (total 14 columns):\n",
            " #   Column             Non-Null Count  Dtype  \n",
            "---  ------             --------------  -----  \n",
            " 0   S.No.              7253 non-null   int64  \n",
            " 1   Name               7253 non-null   object \n",
            " 2   Location           7253 non-null   object \n",
            " 3   Year               7253 non-null   int64  \n",
            " 4   Kilometers_Driven  7253 non-null   int64  \n",
            " 5   Fuel_Type          7253 non-null   object \n",
            " 6   Transmission       7253 non-null   object \n",
            " 7   Owner_Type         7253 non-null   object \n",
            " 8   Mileage            7251 non-null   float64\n",
            " 9   Engine             7207 non-null   float64\n",
            " 10  Power              7078 non-null   float64\n",
            " 11  Seats              7200 non-null   float64\n",
            " 12  New_price          1006 non-null   float64\n",
            " 13  Price              6019 non-null   float64\n",
            "dtypes: float64(6), int64(3), object(5)\n",
            "memory usage: 793.4+ KB\n"
          ]
        },
        {
          "output_type": "execute_result",
          "data": {
            "text/plain": [
              "S.No.                   0\n",
              "Name                    0\n",
              "Location                0\n",
              "Year                    0\n",
              "Kilometers_Driven       0\n",
              "Fuel_Type               0\n",
              "Transmission            0\n",
              "Owner_Type              0\n",
              "Mileage                 2\n",
              "Engine                 46\n",
              "Power                 175\n",
              "Seats                  53\n",
              "New_price            6247\n",
              "Price                1234\n",
              "dtype: int64"
            ]
          },
          "metadata": {},
          "execution_count": 12
        }
      ],
      "source": [
        "# Check total number of missing values of each column. Hint: Use isnull() method\n",
        "df = pd.DataFrame(data)\n",
        "df.info(null_counts=True)\n",
        "df.isnull().sum()"
      ]
    },
    {
      "cell_type": "markdown",
      "metadata": {
        "id": "YYEjK2P9VL3V"
      },
      "source": [
        "**Observations and Insights: _____**"
      ]
    },
    {
      "cell_type": "markdown",
      "metadata": {
        "id": "advlMcdfVL3V"
      },
      "source": [
        "We can observe that `S.No.` has no null values. Also the number of unique values are equal to the number of observations. So, `S.No.` looks like an index for the data entry and such a column would not be useful in providing any predictive power for our analysis. Hence, it can be dropped."
      ]
    },
    {
      "cell_type": "code",
      "execution_count": 20,
      "metadata": {
        "id": "7iOwET4BtOSk"
      },
      "outputs": [],
      "source": [
        "# Remove S.No. column from data. Hint: Use inplace = True\n",
        "data.drop('S.No.', axis=1, inplace=True)"
      ]
    },
    {
      "cell_type": "markdown",
      "metadata": {
        "id": "crnR9cphIrct"
      },
      "source": [
        "## **Exploratory Data Analysis**"
      ]
    },
    {
      "cell_type": "markdown",
      "metadata": {
        "id": "foDG3YDDtOSm"
      },
      "source": [
        "### **Let us now explore the summary statistics of numerical variables**"
      ]
    },
    {
      "cell_type": "code",
      "execution_count": 21,
      "metadata": {
        "id": "gRtUSqXptOSm",
        "scrolled": true,
        "colab": {
          "base_uri": "https://localhost:8080/",
          "height": 300
        },
        "outputId": "0f18a39f-825d-4cfc-b36b-7ba4806a80fd"
      },
      "outputs": [
        {
          "output_type": "execute_result",
          "data": {
            "text/plain": [
              "              Year  Kilometers_Driven      Mileage       Engine        Power  \\\n",
              "count  7253.000000       7.253000e+03  7251.000000  7207.000000  7078.000000   \n",
              "mean   2013.365366       5.869906e+04    18.141580  1616.573470   112.765214   \n",
              "std       3.254421       8.442772e+04     4.562197   595.285137    53.493553   \n",
              "min    1996.000000       1.710000e+02     0.000000    72.000000    34.200000   \n",
              "25%    2011.000000       3.400000e+04    15.170000  1198.000000    75.000000   \n",
              "50%    2014.000000       5.341600e+04    18.160000  1493.000000    94.000000   \n",
              "75%    2016.000000       7.300000e+04    21.100000  1968.000000   138.100000   \n",
              "max    2019.000000       6.500000e+06    33.540000  5998.000000   616.000000   \n",
              "\n",
              "             Seats    New_price        Price  \n",
              "count  7200.000000  1006.000000  6019.000000  \n",
              "mean      5.280417    22.779692     9.479468  \n",
              "std       0.809277    27.759344    11.187917  \n",
              "min       2.000000     3.910000     0.440000  \n",
              "25%       5.000000     7.885000     3.500000  \n",
              "50%       5.000000    11.570000     5.640000  \n",
              "75%       5.000000    26.042500     9.950000  \n",
              "max      10.000000   375.000000   160.000000  "
            ],
            "text/html": [
              "\n",
              "  <div id=\"df-ba859852-c3d6-4d85-846f-1ed3f40e4f23\">\n",
              "    <div class=\"colab-df-container\">\n",
              "      <div>\n",
              "<style scoped>\n",
              "    .dataframe tbody tr th:only-of-type {\n",
              "        vertical-align: middle;\n",
              "    }\n",
              "\n",
              "    .dataframe tbody tr th {\n",
              "        vertical-align: top;\n",
              "    }\n",
              "\n",
              "    .dataframe thead th {\n",
              "        text-align: right;\n",
              "    }\n",
              "</style>\n",
              "<table border=\"1\" class=\"dataframe\">\n",
              "  <thead>\n",
              "    <tr style=\"text-align: right;\">\n",
              "      <th></th>\n",
              "      <th>Year</th>\n",
              "      <th>Kilometers_Driven</th>\n",
              "      <th>Mileage</th>\n",
              "      <th>Engine</th>\n",
              "      <th>Power</th>\n",
              "      <th>Seats</th>\n",
              "      <th>New_price</th>\n",
              "      <th>Price</th>\n",
              "    </tr>\n",
              "  </thead>\n",
              "  <tbody>\n",
              "    <tr>\n",
              "      <th>count</th>\n",
              "      <td>7253.000000</td>\n",
              "      <td>7.253000e+03</td>\n",
              "      <td>7251.000000</td>\n",
              "      <td>7207.000000</td>\n",
              "      <td>7078.000000</td>\n",
              "      <td>7200.000000</td>\n",
              "      <td>1006.000000</td>\n",
              "      <td>6019.000000</td>\n",
              "    </tr>\n",
              "    <tr>\n",
              "      <th>mean</th>\n",
              "      <td>2013.365366</td>\n",
              "      <td>5.869906e+04</td>\n",
              "      <td>18.141580</td>\n",
              "      <td>1616.573470</td>\n",
              "      <td>112.765214</td>\n",
              "      <td>5.280417</td>\n",
              "      <td>22.779692</td>\n",
              "      <td>9.479468</td>\n",
              "    </tr>\n",
              "    <tr>\n",
              "      <th>std</th>\n",
              "      <td>3.254421</td>\n",
              "      <td>8.442772e+04</td>\n",
              "      <td>4.562197</td>\n",
              "      <td>595.285137</td>\n",
              "      <td>53.493553</td>\n",
              "      <td>0.809277</td>\n",
              "      <td>27.759344</td>\n",
              "      <td>11.187917</td>\n",
              "    </tr>\n",
              "    <tr>\n",
              "      <th>min</th>\n",
              "      <td>1996.000000</td>\n",
              "      <td>1.710000e+02</td>\n",
              "      <td>0.000000</td>\n",
              "      <td>72.000000</td>\n",
              "      <td>34.200000</td>\n",
              "      <td>2.000000</td>\n",
              "      <td>3.910000</td>\n",
              "      <td>0.440000</td>\n",
              "    </tr>\n",
              "    <tr>\n",
              "      <th>25%</th>\n",
              "      <td>2011.000000</td>\n",
              "      <td>3.400000e+04</td>\n",
              "      <td>15.170000</td>\n",
              "      <td>1198.000000</td>\n",
              "      <td>75.000000</td>\n",
              "      <td>5.000000</td>\n",
              "      <td>7.885000</td>\n",
              "      <td>3.500000</td>\n",
              "    </tr>\n",
              "    <tr>\n",
              "      <th>50%</th>\n",
              "      <td>2014.000000</td>\n",
              "      <td>5.341600e+04</td>\n",
              "      <td>18.160000</td>\n",
              "      <td>1493.000000</td>\n",
              "      <td>94.000000</td>\n",
              "      <td>5.000000</td>\n",
              "      <td>11.570000</td>\n",
              "      <td>5.640000</td>\n",
              "    </tr>\n",
              "    <tr>\n",
              "      <th>75%</th>\n",
              "      <td>2016.000000</td>\n",
              "      <td>7.300000e+04</td>\n",
              "      <td>21.100000</td>\n",
              "      <td>1968.000000</td>\n",
              "      <td>138.100000</td>\n",
              "      <td>5.000000</td>\n",
              "      <td>26.042500</td>\n",
              "      <td>9.950000</td>\n",
              "    </tr>\n",
              "    <tr>\n",
              "      <th>max</th>\n",
              "      <td>2019.000000</td>\n",
              "      <td>6.500000e+06</td>\n",
              "      <td>33.540000</td>\n",
              "      <td>5998.000000</td>\n",
              "      <td>616.000000</td>\n",
              "      <td>10.000000</td>\n",
              "      <td>375.000000</td>\n",
              "      <td>160.000000</td>\n",
              "    </tr>\n",
              "  </tbody>\n",
              "</table>\n",
              "</div>\n",
              "      <button class=\"colab-df-convert\" onclick=\"convertToInteractive('df-ba859852-c3d6-4d85-846f-1ed3f40e4f23')\"\n",
              "              title=\"Convert this dataframe to an interactive table.\"\n",
              "              style=\"display:none;\">\n",
              "        \n",
              "  <svg xmlns=\"http://www.w3.org/2000/svg\" height=\"24px\"viewBox=\"0 0 24 24\"\n",
              "       width=\"24px\">\n",
              "    <path d=\"M0 0h24v24H0V0z\" fill=\"none\"/>\n",
              "    <path d=\"M18.56 5.44l.94 2.06.94-2.06 2.06-.94-2.06-.94-.94-2.06-.94 2.06-2.06.94zm-11 1L8.5 8.5l.94-2.06 2.06-.94-2.06-.94L8.5 2.5l-.94 2.06-2.06.94zm10 10l.94 2.06.94-2.06 2.06-.94-2.06-.94-.94-2.06-.94 2.06-2.06.94z\"/><path d=\"M17.41 7.96l-1.37-1.37c-.4-.4-.92-.59-1.43-.59-.52 0-1.04.2-1.43.59L10.3 9.45l-7.72 7.72c-.78.78-.78 2.05 0 2.83L4 21.41c.39.39.9.59 1.41.59.51 0 1.02-.2 1.41-.59l7.78-7.78 2.81-2.81c.8-.78.8-2.07 0-2.86zM5.41 20L4 18.59l7.72-7.72 1.47 1.35L5.41 20z\"/>\n",
              "  </svg>\n",
              "      </button>\n",
              "      \n",
              "  <style>\n",
              "    .colab-df-container {\n",
              "      display:flex;\n",
              "      flex-wrap:wrap;\n",
              "      gap: 12px;\n",
              "    }\n",
              "\n",
              "    .colab-df-convert {\n",
              "      background-color: #E8F0FE;\n",
              "      border: none;\n",
              "      border-radius: 50%;\n",
              "      cursor: pointer;\n",
              "      display: none;\n",
              "      fill: #1967D2;\n",
              "      height: 32px;\n",
              "      padding: 0 0 0 0;\n",
              "      width: 32px;\n",
              "    }\n",
              "\n",
              "    .colab-df-convert:hover {\n",
              "      background-color: #E2EBFA;\n",
              "      box-shadow: 0px 1px 2px rgba(60, 64, 67, 0.3), 0px 1px 3px 1px rgba(60, 64, 67, 0.15);\n",
              "      fill: #174EA6;\n",
              "    }\n",
              "\n",
              "    [theme=dark] .colab-df-convert {\n",
              "      background-color: #3B4455;\n",
              "      fill: #D2E3FC;\n",
              "    }\n",
              "\n",
              "    [theme=dark] .colab-df-convert:hover {\n",
              "      background-color: #434B5C;\n",
              "      box-shadow: 0px 1px 3px 1px rgba(0, 0, 0, 0.15);\n",
              "      filter: drop-shadow(0px 1px 2px rgba(0, 0, 0, 0.3));\n",
              "      fill: #FFFFFF;\n",
              "    }\n",
              "  </style>\n",
              "\n",
              "      <script>\n",
              "        const buttonEl =\n",
              "          document.querySelector('#df-ba859852-c3d6-4d85-846f-1ed3f40e4f23 button.colab-df-convert');\n",
              "        buttonEl.style.display =\n",
              "          google.colab.kernel.accessAllowed ? 'block' : 'none';\n",
              "\n",
              "        async function convertToInteractive(key) {\n",
              "          const element = document.querySelector('#df-ba859852-c3d6-4d85-846f-1ed3f40e4f23');\n",
              "          const dataTable =\n",
              "            await google.colab.kernel.invokeFunction('convertToInteractive',\n",
              "                                                     [key], {});\n",
              "          if (!dataTable) return;\n",
              "\n",
              "          const docLinkHtml = 'Like what you see? Visit the ' +\n",
              "            '<a target=\"_blank\" href=https://colab.research.google.com/notebooks/data_table.ipynb>data table notebook</a>'\n",
              "            + ' to learn more about interactive tables.';\n",
              "          element.innerHTML = '';\n",
              "          dataTable['output_type'] = 'display_data';\n",
              "          await google.colab.output.renderOutput(dataTable, element);\n",
              "          const docLink = document.createElement('div');\n",
              "          docLink.innerHTML = docLinkHtml;\n",
              "          element.appendChild(docLink);\n",
              "        }\n",
              "      </script>\n",
              "    </div>\n",
              "  </div>\n",
              "  "
            ]
          },
          "metadata": {},
          "execution_count": 21
        }
      ],
      "source": [
        "# Explore basic summary statistics of numeric variables. Hint: Use describe() method.\n",
        "data.describe()"
      ]
    },
    {
      "cell_type": "markdown",
      "metadata": {
        "id": "L_1gUwvctOSm"
      },
      "source": [
        "**Observations and Insights: _____**"
      ]
    },
    {
      "cell_type": "markdown",
      "metadata": {
        "id": "FE62g5aoVL3W"
      },
      "source": [
        "### **Let us also explore the summary statistics of all categorical variables and the number of unique observations in each category**"
      ]
    },
    {
      "cell_type": "code",
      "execution_count": 22,
      "metadata": {
        "id": "SKOwkEHItOSm",
        "colab": {
          "base_uri": "https://localhost:8080/"
        },
        "outputId": "6e1cf365-ffa0-4051-bd42-c48a872c466e"
      },
      "outputs": [
        {
          "output_type": "stream",
          "name": "stdout",
          "text": [
            "Summary Statistics:\n",
            "                          Name Location Fuel_Type Transmission Owner_Type\n",
            "count                     7253     7253      7253         7253       7253\n",
            "unique                    2041       11         5            2          4\n",
            "top     Mahindra XUV500 W8 2WD   Mumbai    Diesel       Manual      First\n",
            "freq                        55      949      3852         5204       5952\n",
            "\n",
            "Number of Unique Observations in each Category:\n",
            "Name            2041\n",
            "Location          11\n",
            "Fuel_Type          5\n",
            "Transmission       2\n",
            "Owner_Type         4\n",
            "dtype: int64\n"
          ]
        }
      ],
      "source": [
        "# Explore basic summary statistics of categorical variables. Hint: Use the argument include = ['object']\n",
        "categorical_columns = data.select_dtypes(include=['object'])\n",
        "summary_stats = categorical_columns.describe()\n",
        "unique_counts = categorical_columns.nunique()\n",
        "\n",
        "print(\"Summary Statistics:\")\n",
        "print(summary_stats)\n",
        "print(\"\\nNumber of Unique Observations in each Category:\")\n",
        "print(unique_counts)\n"
      ]
    },
    {
      "cell_type": "markdown",
      "metadata": {
        "id": "EaSIWEHUtOSn"
      },
      "source": [
        "**Number of unique observations in each category**"
      ]
    },
    {
      "cell_type": "code",
      "execution_count": 23,
      "metadata": {
        "id": "IKOWSKhqVL3X",
        "colab": {
          "base_uri": "https://localhost:8080/"
        },
        "outputId": "f6ab0eca-6eb1-44cd-8bc6-88bb22fc1fb1"
      },
      "outputs": [
        {
          "output_type": "stream",
          "name": "stdout",
          "text": [
            "For column: Name\n",
            "2041\n",
            "--------------------------------------------------\n",
            "For column: Location\n",
            "11\n",
            "--------------------------------------------------\n",
            "For column: Fuel_Type\n",
            "5\n",
            "--------------------------------------------------\n",
            "For column: Transmission\n",
            "2\n",
            "--------------------------------------------------\n",
            "For column: Owner_Type\n",
            "4\n",
            "--------------------------------------------------\n"
          ]
        }
      ],
      "source": [
        "cat_cols = data.select_dtypes(include = ['object']).columns\n",
        "\n",
        "for column in cat_cols:\n",
        "\n",
        "    print(\"For column:\", column)\n",
        "\n",
        "    print(data[column].nunique())\n",
        "\n",
        "    print('-'*50)"
      ]
    },
    {
      "cell_type": "markdown",
      "metadata": {
        "id": "K8ck0A1ltOSn"
      },
      "source": [
        "#### **Observations and Insights: _____**"
      ]
    },
    {
      "cell_type": "markdown",
      "metadata": {
        "id": "E1XK56IlVL3X"
      },
      "source": [
        "**Think About It**:\n",
        "\n",
        "- We could observe from summary statistics that kilometers_driven has extreme values. Can we look at the manufactured year for cars with extreme values for kilometers_driven?\n",
        "- Also, we could observe the feature mileage has values zero. Can the mileage of a car be zero?"
      ]
    },
    {
      "cell_type": "markdown",
      "metadata": {
        "id": "xT4ddKw_VL3X"
      },
      "source": [
        "**Let's explore the two points mentioned above**"
      ]
    },
    {
      "cell_type": "markdown",
      "metadata": {
        "id": "V5IwjyYstOSn"
      },
      "source": [
        "**Check Kilometers_Driven extreme values**"
      ]
    },
    {
      "cell_type": "code",
      "execution_count": 24,
      "metadata": {
        "id": "HqsfH-VFtOSo",
        "colab": {
          "base_uri": "https://localhost:8080/",
          "height": 363
        },
        "outputId": "f64b462b-1b05-4a1b-89dc-875619966ec4"
      },
      "outputs": [
        {
          "output_type": "execute_result",
          "data": {
            "text/plain": [
              "                                                 Name   Location  Year  \\\n",
              "2328                        BMW X5 xDrive 30d M Sport    Chennai  2017   \n",
              "340            Skoda Octavia Ambition Plus 2.0 TDI AT    Kolkata  2013   \n",
              "1860                 Volkswagen Vento Diesel Highline    Chennai  2013   \n",
              "358                             Hyundai i10 Magna 1.2    Chennai  2009   \n",
              "2823  Volkswagen Jetta 2013-2015 2.0L TDI Highline AT    Chennai  2015   \n",
              "3092                             Honda City i VTEC SV    Kolkata  2015   \n",
              "4491                   Hyundai i20 Magna Optional 1.2  Bangalore  2013   \n",
              "6921                      Maruti Swift Dzire Tour LDI     Jaipur  2012   \n",
              "3649                                   Tata Indigo LS     Jaipur  2008   \n",
              "1528      Toyota Innova 2.5 G (Diesel) 8 Seater BS IV  Hyderabad  2005   \n",
              "\n",
              "      Kilometers_Driven Fuel_Type Transmission Owner_Type  Mileage  Engine  \\\n",
              "2328            6500000    Diesel    Automatic      First    15.97  2993.0   \n",
              "340              775000    Diesel    Automatic      First    19.30  1968.0   \n",
              "1860             720000    Diesel       Manual      First    20.54  1598.0   \n",
              "358              620000    Petrol       Manual      First    20.36  1197.0   \n",
              "2823             480000    Diesel    Automatic      First    16.96  1968.0   \n",
              "3092             480000    Petrol       Manual      First    17.40  1497.0   \n",
              "4491             445000    Petrol       Manual      First    18.50  1197.0   \n",
              "6921             350000    Diesel       Manual      First    23.40  1248.0   \n",
              "3649             300000    Diesel       Manual      First    17.00  1405.0   \n",
              "1528             299322    Diesel       Manual      First    12.80  2494.0   \n",
              "\n",
              "       Power  Seats  New_price  Price  \n",
              "2328  258.00    5.0        NaN  65.00  \n",
              "340   141.00    5.0        NaN   7.50  \n",
              "1860  103.60    5.0        NaN   5.90  \n",
              "358    78.90    5.0        NaN   2.70  \n",
              "2823  138.03    5.0        NaN  13.00  \n",
              "3092  117.30    5.0        NaN   5.00  \n",
              "4491   82.90    5.0        NaN   4.45  \n",
              "6921   74.00    5.0        NaN    NaN  \n",
              "3649   70.00    5.0        NaN   1.00  \n",
              "1528  102.00    8.0        NaN   4.00  "
            ],
            "text/html": [
              "\n",
              "  <div id=\"df-0bd1c931-eff3-4175-b35e-dc2e5bc4f9c3\">\n",
              "    <div class=\"colab-df-container\">\n",
              "      <div>\n",
              "<style scoped>\n",
              "    .dataframe tbody tr th:only-of-type {\n",
              "        vertical-align: middle;\n",
              "    }\n",
              "\n",
              "    .dataframe tbody tr th {\n",
              "        vertical-align: top;\n",
              "    }\n",
              "\n",
              "    .dataframe thead th {\n",
              "        text-align: right;\n",
              "    }\n",
              "</style>\n",
              "<table border=\"1\" class=\"dataframe\">\n",
              "  <thead>\n",
              "    <tr style=\"text-align: right;\">\n",
              "      <th></th>\n",
              "      <th>Name</th>\n",
              "      <th>Location</th>\n",
              "      <th>Year</th>\n",
              "      <th>Kilometers_Driven</th>\n",
              "      <th>Fuel_Type</th>\n",
              "      <th>Transmission</th>\n",
              "      <th>Owner_Type</th>\n",
              "      <th>Mileage</th>\n",
              "      <th>Engine</th>\n",
              "      <th>Power</th>\n",
              "      <th>Seats</th>\n",
              "      <th>New_price</th>\n",
              "      <th>Price</th>\n",
              "    </tr>\n",
              "  </thead>\n",
              "  <tbody>\n",
              "    <tr>\n",
              "      <th>2328</th>\n",
              "      <td>BMW X5 xDrive 30d M Sport</td>\n",
              "      <td>Chennai</td>\n",
              "      <td>2017</td>\n",
              "      <td>6500000</td>\n",
              "      <td>Diesel</td>\n",
              "      <td>Automatic</td>\n",
              "      <td>First</td>\n",
              "      <td>15.97</td>\n",
              "      <td>2993.0</td>\n",
              "      <td>258.00</td>\n",
              "      <td>5.0</td>\n",
              "      <td>NaN</td>\n",
              "      <td>65.00</td>\n",
              "    </tr>\n",
              "    <tr>\n",
              "      <th>340</th>\n",
              "      <td>Skoda Octavia Ambition Plus 2.0 TDI AT</td>\n",
              "      <td>Kolkata</td>\n",
              "      <td>2013</td>\n",
              "      <td>775000</td>\n",
              "      <td>Diesel</td>\n",
              "      <td>Automatic</td>\n",
              "      <td>First</td>\n",
              "      <td>19.30</td>\n",
              "      <td>1968.0</td>\n",
              "      <td>141.00</td>\n",
              "      <td>5.0</td>\n",
              "      <td>NaN</td>\n",
              "      <td>7.50</td>\n",
              "    </tr>\n",
              "    <tr>\n",
              "      <th>1860</th>\n",
              "      <td>Volkswagen Vento Diesel Highline</td>\n",
              "      <td>Chennai</td>\n",
              "      <td>2013</td>\n",
              "      <td>720000</td>\n",
              "      <td>Diesel</td>\n",
              "      <td>Manual</td>\n",
              "      <td>First</td>\n",
              "      <td>20.54</td>\n",
              "      <td>1598.0</td>\n",
              "      <td>103.60</td>\n",
              "      <td>5.0</td>\n",
              "      <td>NaN</td>\n",
              "      <td>5.90</td>\n",
              "    </tr>\n",
              "    <tr>\n",
              "      <th>358</th>\n",
              "      <td>Hyundai i10 Magna 1.2</td>\n",
              "      <td>Chennai</td>\n",
              "      <td>2009</td>\n",
              "      <td>620000</td>\n",
              "      <td>Petrol</td>\n",
              "      <td>Manual</td>\n",
              "      <td>First</td>\n",
              "      <td>20.36</td>\n",
              "      <td>1197.0</td>\n",
              "      <td>78.90</td>\n",
              "      <td>5.0</td>\n",
              "      <td>NaN</td>\n",
              "      <td>2.70</td>\n",
              "    </tr>\n",
              "    <tr>\n",
              "      <th>2823</th>\n",
              "      <td>Volkswagen Jetta 2013-2015 2.0L TDI Highline AT</td>\n",
              "      <td>Chennai</td>\n",
              "      <td>2015</td>\n",
              "      <td>480000</td>\n",
              "      <td>Diesel</td>\n",
              "      <td>Automatic</td>\n",
              "      <td>First</td>\n",
              "      <td>16.96</td>\n",
              "      <td>1968.0</td>\n",
              "      <td>138.03</td>\n",
              "      <td>5.0</td>\n",
              "      <td>NaN</td>\n",
              "      <td>13.00</td>\n",
              "    </tr>\n",
              "    <tr>\n",
              "      <th>3092</th>\n",
              "      <td>Honda City i VTEC SV</td>\n",
              "      <td>Kolkata</td>\n",
              "      <td>2015</td>\n",
              "      <td>480000</td>\n",
              "      <td>Petrol</td>\n",
              "      <td>Manual</td>\n",
              "      <td>First</td>\n",
              "      <td>17.40</td>\n",
              "      <td>1497.0</td>\n",
              "      <td>117.30</td>\n",
              "      <td>5.0</td>\n",
              "      <td>NaN</td>\n",
              "      <td>5.00</td>\n",
              "    </tr>\n",
              "    <tr>\n",
              "      <th>4491</th>\n",
              "      <td>Hyundai i20 Magna Optional 1.2</td>\n",
              "      <td>Bangalore</td>\n",
              "      <td>2013</td>\n",
              "      <td>445000</td>\n",
              "      <td>Petrol</td>\n",
              "      <td>Manual</td>\n",
              "      <td>First</td>\n",
              "      <td>18.50</td>\n",
              "      <td>1197.0</td>\n",
              "      <td>82.90</td>\n",
              "      <td>5.0</td>\n",
              "      <td>NaN</td>\n",
              "      <td>4.45</td>\n",
              "    </tr>\n",
              "    <tr>\n",
              "      <th>6921</th>\n",
              "      <td>Maruti Swift Dzire Tour LDI</td>\n",
              "      <td>Jaipur</td>\n",
              "      <td>2012</td>\n",
              "      <td>350000</td>\n",
              "      <td>Diesel</td>\n",
              "      <td>Manual</td>\n",
              "      <td>First</td>\n",
              "      <td>23.40</td>\n",
              "      <td>1248.0</td>\n",
              "      <td>74.00</td>\n",
              "      <td>5.0</td>\n",
              "      <td>NaN</td>\n",
              "      <td>NaN</td>\n",
              "    </tr>\n",
              "    <tr>\n",
              "      <th>3649</th>\n",
              "      <td>Tata Indigo LS</td>\n",
              "      <td>Jaipur</td>\n",
              "      <td>2008</td>\n",
              "      <td>300000</td>\n",
              "      <td>Diesel</td>\n",
              "      <td>Manual</td>\n",
              "      <td>First</td>\n",
              "      <td>17.00</td>\n",
              "      <td>1405.0</td>\n",
              "      <td>70.00</td>\n",
              "      <td>5.0</td>\n",
              "      <td>NaN</td>\n",
              "      <td>1.00</td>\n",
              "    </tr>\n",
              "    <tr>\n",
              "      <th>1528</th>\n",
              "      <td>Toyota Innova 2.5 G (Diesel) 8 Seater BS IV</td>\n",
              "      <td>Hyderabad</td>\n",
              "      <td>2005</td>\n",
              "      <td>299322</td>\n",
              "      <td>Diesel</td>\n",
              "      <td>Manual</td>\n",
              "      <td>First</td>\n",
              "      <td>12.80</td>\n",
              "      <td>2494.0</td>\n",
              "      <td>102.00</td>\n",
              "      <td>8.0</td>\n",
              "      <td>NaN</td>\n",
              "      <td>4.00</td>\n",
              "    </tr>\n",
              "  </tbody>\n",
              "</table>\n",
              "</div>\n",
              "      <button class=\"colab-df-convert\" onclick=\"convertToInteractive('df-0bd1c931-eff3-4175-b35e-dc2e5bc4f9c3')\"\n",
              "              title=\"Convert this dataframe to an interactive table.\"\n",
              "              style=\"display:none;\">\n",
              "        \n",
              "  <svg xmlns=\"http://www.w3.org/2000/svg\" height=\"24px\"viewBox=\"0 0 24 24\"\n",
              "       width=\"24px\">\n",
              "    <path d=\"M0 0h24v24H0V0z\" fill=\"none\"/>\n",
              "    <path d=\"M18.56 5.44l.94 2.06.94-2.06 2.06-.94-2.06-.94-.94-2.06-.94 2.06-2.06.94zm-11 1L8.5 8.5l.94-2.06 2.06-.94-2.06-.94L8.5 2.5l-.94 2.06-2.06.94zm10 10l.94 2.06.94-2.06 2.06-.94-2.06-.94-.94-2.06-.94 2.06-2.06.94z\"/><path d=\"M17.41 7.96l-1.37-1.37c-.4-.4-.92-.59-1.43-.59-.52 0-1.04.2-1.43.59L10.3 9.45l-7.72 7.72c-.78.78-.78 2.05 0 2.83L4 21.41c.39.39.9.59 1.41.59.51 0 1.02-.2 1.41-.59l7.78-7.78 2.81-2.81c.8-.78.8-2.07 0-2.86zM5.41 20L4 18.59l7.72-7.72 1.47 1.35L5.41 20z\"/>\n",
              "  </svg>\n",
              "      </button>\n",
              "      \n",
              "  <style>\n",
              "    .colab-df-container {\n",
              "      display:flex;\n",
              "      flex-wrap:wrap;\n",
              "      gap: 12px;\n",
              "    }\n",
              "\n",
              "    .colab-df-convert {\n",
              "      background-color: #E8F0FE;\n",
              "      border: none;\n",
              "      border-radius: 50%;\n",
              "      cursor: pointer;\n",
              "      display: none;\n",
              "      fill: #1967D2;\n",
              "      height: 32px;\n",
              "      padding: 0 0 0 0;\n",
              "      width: 32px;\n",
              "    }\n",
              "\n",
              "    .colab-df-convert:hover {\n",
              "      background-color: #E2EBFA;\n",
              "      box-shadow: 0px 1px 2px rgba(60, 64, 67, 0.3), 0px 1px 3px 1px rgba(60, 64, 67, 0.15);\n",
              "      fill: #174EA6;\n",
              "    }\n",
              "\n",
              "    [theme=dark] .colab-df-convert {\n",
              "      background-color: #3B4455;\n",
              "      fill: #D2E3FC;\n",
              "    }\n",
              "\n",
              "    [theme=dark] .colab-df-convert:hover {\n",
              "      background-color: #434B5C;\n",
              "      box-shadow: 0px 1px 3px 1px rgba(0, 0, 0, 0.15);\n",
              "      filter: drop-shadow(0px 1px 2px rgba(0, 0, 0, 0.3));\n",
              "      fill: #FFFFFF;\n",
              "    }\n",
              "  </style>\n",
              "\n",
              "      <script>\n",
              "        const buttonEl =\n",
              "          document.querySelector('#df-0bd1c931-eff3-4175-b35e-dc2e5bc4f9c3 button.colab-df-convert');\n",
              "        buttonEl.style.display =\n",
              "          google.colab.kernel.accessAllowed ? 'block' : 'none';\n",
              "\n",
              "        async function convertToInteractive(key) {\n",
              "          const element = document.querySelector('#df-0bd1c931-eff3-4175-b35e-dc2e5bc4f9c3');\n",
              "          const dataTable =\n",
              "            await google.colab.kernel.invokeFunction('convertToInteractive',\n",
              "                                                     [key], {});\n",
              "          if (!dataTable) return;\n",
              "\n",
              "          const docLinkHtml = 'Like what you see? Visit the ' +\n",
              "            '<a target=\"_blank\" href=https://colab.research.google.com/notebooks/data_table.ipynb>data table notebook</a>'\n",
              "            + ' to learn more about interactive tables.';\n",
              "          element.innerHTML = '';\n",
              "          dataTable['output_type'] = 'display_data';\n",
              "          await google.colab.output.renderOutput(dataTable, element);\n",
              "          const docLink = document.createElement('div');\n",
              "          docLink.innerHTML = docLinkHtml;\n",
              "          element.appendChild(docLink);\n",
              "        }\n",
              "      </script>\n",
              "    </div>\n",
              "  </div>\n",
              "  "
            ]
          },
          "metadata": {},
          "execution_count": 24
        }
      ],
      "source": [
        "# Sort the dataset in 'descending' order using the feature 'Kilometers_Driven'\n",
        "sorted_data = data.sort_values('Kilometers_Driven', ascending=False)\n",
        "sorted_data.head(10)\n"
      ]
    },
    {
      "cell_type": "markdown",
      "metadata": {
        "id": "HxhehTWQtOSo"
      },
      "source": [
        "#### **Observations and Insights: _____**\n"
      ]
    },
    {
      "cell_type": "markdown",
      "metadata": {
        "id": "rLtq9uqgVL3X"
      },
      "source": [
        "In the first row, a car manufactured as recently as 2017 having been driven 6500000 km is almost impossible. It can be considered as data entry error and so we can remove this value/entry from data."
      ]
    },
    {
      "cell_type": "code",
      "execution_count": 25,
      "metadata": {
        "id": "gA65oQhoIrcx"
      },
      "outputs": [],
      "source": [
        "# Removing the 'row' at index 2328 from the data. Hint: use the argument inplace=True\n",
        "data.drop(2328,inplace=True)"
      ]
    },
    {
      "cell_type": "markdown",
      "metadata": {
        "id": "fDIBa5OFtOSo"
      },
      "source": [
        "**Check Mileage extreme values**"
      ]
    },
    {
      "cell_type": "code",
      "execution_count": 28,
      "metadata": {
        "id": "0zdqBCD-tOSp",
        "colab": {
          "base_uri": "https://localhost:8080/",
          "height": 363
        },
        "outputId": "27c79a2b-a694-4764-d25c-1cf03097ae4c"
      },
      "outputs": [
        {
          "output_type": "execute_result",
          "data": {
            "text/plain": [
              "                                      Name    Location  Year  \\\n",
              "2597                Hyundai Santro Xing XP        Pune  2007   \n",
              "2343                     Hyundai Santro AT   Hyderabad  2006   \n",
              "5270                    Honda City 1.5 GXI   Bangalore  2002   \n",
              "424   Volkswagen Jetta 2007-2011 1.9 L TDI   Hyderabad  2010   \n",
              "6857        Land Rover Freelander 2 TD4 SE      Mumbai  2011   \n",
              "443          Hyundai Santro GLS I - Euro I  Coimbatore  2012   \n",
              "5119                Hyundai Santro Xing XP     Kolkata  2008   \n",
              "5022        Land Rover Freelander 2 TD4 SE   Hyderabad  2013   \n",
              "5016       Land Rover Freelander 2 TD4 HSE       Delhi  2013   \n",
              "2542       Hyundai Santro GLS II - Euro II   Bangalore  2011   \n",
              "\n",
              "      Kilometers_Driven Fuel_Type Transmission Owner_Type  Mileage  Engine  \\\n",
              "2597              70000    Petrol       Manual      First      0.0  1086.0   \n",
              "2343              74483    Petrol    Automatic      First      0.0   999.0   \n",
              "5270              53000    Petrol       Manual     Second      0.0     NaN   \n",
              "424               42021    Diesel       Manual      First      0.0  1968.0   \n",
              "6857              87000    Diesel    Automatic      First      0.0  2179.0   \n",
              "443               50243    Petrol       Manual      First      0.0  1086.0   \n",
              "5119              45500    Petrol       Manual     Second      0.0  1086.0   \n",
              "5022              46000    Diesel    Automatic     Second      0.0  2179.0   \n",
              "5016              72000    Diesel    Automatic      First      0.0  2179.0   \n",
              "2542              65000    Petrol       Manual     Second      0.0     NaN   \n",
              "\n",
              "      Power  Seats  New_price  Price  \n",
              "2597    NaN    5.0        NaN   1.12  \n",
              "2343    NaN    5.0        NaN   2.30  \n",
              "5270    NaN    NaN        NaN   1.85  \n",
              "424     NaN    5.0        NaN   5.45  \n",
              "6857  115.0    5.0        NaN    NaN  \n",
              "443     NaN    5.0        NaN   3.35  \n",
              "5119    NaN    5.0        NaN   1.17  \n",
              "5022  115.0    5.0        NaN  26.00  \n",
              "5016  115.0    5.0        NaN  15.50  \n",
              "2542    NaN    NaN        NaN   3.15  "
            ],
            "text/html": [
              "\n",
              "  <div id=\"df-6b42cf8c-ad9b-45c4-8a41-fe482c4f9cf6\">\n",
              "    <div class=\"colab-df-container\">\n",
              "      <div>\n",
              "<style scoped>\n",
              "    .dataframe tbody tr th:only-of-type {\n",
              "        vertical-align: middle;\n",
              "    }\n",
              "\n",
              "    .dataframe tbody tr th {\n",
              "        vertical-align: top;\n",
              "    }\n",
              "\n",
              "    .dataframe thead th {\n",
              "        text-align: right;\n",
              "    }\n",
              "</style>\n",
              "<table border=\"1\" class=\"dataframe\">\n",
              "  <thead>\n",
              "    <tr style=\"text-align: right;\">\n",
              "      <th></th>\n",
              "      <th>Name</th>\n",
              "      <th>Location</th>\n",
              "      <th>Year</th>\n",
              "      <th>Kilometers_Driven</th>\n",
              "      <th>Fuel_Type</th>\n",
              "      <th>Transmission</th>\n",
              "      <th>Owner_Type</th>\n",
              "      <th>Mileage</th>\n",
              "      <th>Engine</th>\n",
              "      <th>Power</th>\n",
              "      <th>Seats</th>\n",
              "      <th>New_price</th>\n",
              "      <th>Price</th>\n",
              "    </tr>\n",
              "  </thead>\n",
              "  <tbody>\n",
              "    <tr>\n",
              "      <th>2597</th>\n",
              "      <td>Hyundai Santro Xing XP</td>\n",
              "      <td>Pune</td>\n",
              "      <td>2007</td>\n",
              "      <td>70000</td>\n",
              "      <td>Petrol</td>\n",
              "      <td>Manual</td>\n",
              "      <td>First</td>\n",
              "      <td>0.0</td>\n",
              "      <td>1086.0</td>\n",
              "      <td>NaN</td>\n",
              "      <td>5.0</td>\n",
              "      <td>NaN</td>\n",
              "      <td>1.12</td>\n",
              "    </tr>\n",
              "    <tr>\n",
              "      <th>2343</th>\n",
              "      <td>Hyundai Santro AT</td>\n",
              "      <td>Hyderabad</td>\n",
              "      <td>2006</td>\n",
              "      <td>74483</td>\n",
              "      <td>Petrol</td>\n",
              "      <td>Automatic</td>\n",
              "      <td>First</td>\n",
              "      <td>0.0</td>\n",
              "      <td>999.0</td>\n",
              "      <td>NaN</td>\n",
              "      <td>5.0</td>\n",
              "      <td>NaN</td>\n",
              "      <td>2.30</td>\n",
              "    </tr>\n",
              "    <tr>\n",
              "      <th>5270</th>\n",
              "      <td>Honda City 1.5 GXI</td>\n",
              "      <td>Bangalore</td>\n",
              "      <td>2002</td>\n",
              "      <td>53000</td>\n",
              "      <td>Petrol</td>\n",
              "      <td>Manual</td>\n",
              "      <td>Second</td>\n",
              "      <td>0.0</td>\n",
              "      <td>NaN</td>\n",
              "      <td>NaN</td>\n",
              "      <td>NaN</td>\n",
              "      <td>NaN</td>\n",
              "      <td>1.85</td>\n",
              "    </tr>\n",
              "    <tr>\n",
              "      <th>424</th>\n",
              "      <td>Volkswagen Jetta 2007-2011 1.9 L TDI</td>\n",
              "      <td>Hyderabad</td>\n",
              "      <td>2010</td>\n",
              "      <td>42021</td>\n",
              "      <td>Diesel</td>\n",
              "      <td>Manual</td>\n",
              "      <td>First</td>\n",
              "      <td>0.0</td>\n",
              "      <td>1968.0</td>\n",
              "      <td>NaN</td>\n",
              "      <td>5.0</td>\n",
              "      <td>NaN</td>\n",
              "      <td>5.45</td>\n",
              "    </tr>\n",
              "    <tr>\n",
              "      <th>6857</th>\n",
              "      <td>Land Rover Freelander 2 TD4 SE</td>\n",
              "      <td>Mumbai</td>\n",
              "      <td>2011</td>\n",
              "      <td>87000</td>\n",
              "      <td>Diesel</td>\n",
              "      <td>Automatic</td>\n",
              "      <td>First</td>\n",
              "      <td>0.0</td>\n",
              "      <td>2179.0</td>\n",
              "      <td>115.0</td>\n",
              "      <td>5.0</td>\n",
              "      <td>NaN</td>\n",
              "      <td>NaN</td>\n",
              "    </tr>\n",
              "    <tr>\n",
              "      <th>443</th>\n",
              "      <td>Hyundai Santro GLS I - Euro I</td>\n",
              "      <td>Coimbatore</td>\n",
              "      <td>2012</td>\n",
              "      <td>50243</td>\n",
              "      <td>Petrol</td>\n",
              "      <td>Manual</td>\n",
              "      <td>First</td>\n",
              "      <td>0.0</td>\n",
              "      <td>1086.0</td>\n",
              "      <td>NaN</td>\n",
              "      <td>5.0</td>\n",
              "      <td>NaN</td>\n",
              "      <td>3.35</td>\n",
              "    </tr>\n",
              "    <tr>\n",
              "      <th>5119</th>\n",
              "      <td>Hyundai Santro Xing XP</td>\n",
              "      <td>Kolkata</td>\n",
              "      <td>2008</td>\n",
              "      <td>45500</td>\n",
              "      <td>Petrol</td>\n",
              "      <td>Manual</td>\n",
              "      <td>Second</td>\n",
              "      <td>0.0</td>\n",
              "      <td>1086.0</td>\n",
              "      <td>NaN</td>\n",
              "      <td>5.0</td>\n",
              "      <td>NaN</td>\n",
              "      <td>1.17</td>\n",
              "    </tr>\n",
              "    <tr>\n",
              "      <th>5022</th>\n",
              "      <td>Land Rover Freelander 2 TD4 SE</td>\n",
              "      <td>Hyderabad</td>\n",
              "      <td>2013</td>\n",
              "      <td>46000</td>\n",
              "      <td>Diesel</td>\n",
              "      <td>Automatic</td>\n",
              "      <td>Second</td>\n",
              "      <td>0.0</td>\n",
              "      <td>2179.0</td>\n",
              "      <td>115.0</td>\n",
              "      <td>5.0</td>\n",
              "      <td>NaN</td>\n",
              "      <td>26.00</td>\n",
              "    </tr>\n",
              "    <tr>\n",
              "      <th>5016</th>\n",
              "      <td>Land Rover Freelander 2 TD4 HSE</td>\n",
              "      <td>Delhi</td>\n",
              "      <td>2013</td>\n",
              "      <td>72000</td>\n",
              "      <td>Diesel</td>\n",
              "      <td>Automatic</td>\n",
              "      <td>First</td>\n",
              "      <td>0.0</td>\n",
              "      <td>2179.0</td>\n",
              "      <td>115.0</td>\n",
              "      <td>5.0</td>\n",
              "      <td>NaN</td>\n",
              "      <td>15.50</td>\n",
              "    </tr>\n",
              "    <tr>\n",
              "      <th>2542</th>\n",
              "      <td>Hyundai Santro GLS II - Euro II</td>\n",
              "      <td>Bangalore</td>\n",
              "      <td>2011</td>\n",
              "      <td>65000</td>\n",
              "      <td>Petrol</td>\n",
              "      <td>Manual</td>\n",
              "      <td>Second</td>\n",
              "      <td>0.0</td>\n",
              "      <td>NaN</td>\n",
              "      <td>NaN</td>\n",
              "      <td>NaN</td>\n",
              "      <td>NaN</td>\n",
              "      <td>3.15</td>\n",
              "    </tr>\n",
              "  </tbody>\n",
              "</table>\n",
              "</div>\n",
              "      <button class=\"colab-df-convert\" onclick=\"convertToInteractive('df-6b42cf8c-ad9b-45c4-8a41-fe482c4f9cf6')\"\n",
              "              title=\"Convert this dataframe to an interactive table.\"\n",
              "              style=\"display:none;\">\n",
              "        \n",
              "  <svg xmlns=\"http://www.w3.org/2000/svg\" height=\"24px\"viewBox=\"0 0 24 24\"\n",
              "       width=\"24px\">\n",
              "    <path d=\"M0 0h24v24H0V0z\" fill=\"none\"/>\n",
              "    <path d=\"M18.56 5.44l.94 2.06.94-2.06 2.06-.94-2.06-.94-.94-2.06-.94 2.06-2.06.94zm-11 1L8.5 8.5l.94-2.06 2.06-.94-2.06-.94L8.5 2.5l-.94 2.06-2.06.94zm10 10l.94 2.06.94-2.06 2.06-.94-2.06-.94-.94-2.06-.94 2.06-2.06.94z\"/><path d=\"M17.41 7.96l-1.37-1.37c-.4-.4-.92-.59-1.43-.59-.52 0-1.04.2-1.43.59L10.3 9.45l-7.72 7.72c-.78.78-.78 2.05 0 2.83L4 21.41c.39.39.9.59 1.41.59.51 0 1.02-.2 1.41-.59l7.78-7.78 2.81-2.81c.8-.78.8-2.07 0-2.86zM5.41 20L4 18.59l7.72-7.72 1.47 1.35L5.41 20z\"/>\n",
              "  </svg>\n",
              "      </button>\n",
              "      \n",
              "  <style>\n",
              "    .colab-df-container {\n",
              "      display:flex;\n",
              "      flex-wrap:wrap;\n",
              "      gap: 12px;\n",
              "    }\n",
              "\n",
              "    .colab-df-convert {\n",
              "      background-color: #E8F0FE;\n",
              "      border: none;\n",
              "      border-radius: 50%;\n",
              "      cursor: pointer;\n",
              "      display: none;\n",
              "      fill: #1967D2;\n",
              "      height: 32px;\n",
              "      padding: 0 0 0 0;\n",
              "      width: 32px;\n",
              "    }\n",
              "\n",
              "    .colab-df-convert:hover {\n",
              "      background-color: #E2EBFA;\n",
              "      box-shadow: 0px 1px 2px rgba(60, 64, 67, 0.3), 0px 1px 3px 1px rgba(60, 64, 67, 0.15);\n",
              "      fill: #174EA6;\n",
              "    }\n",
              "\n",
              "    [theme=dark] .colab-df-convert {\n",
              "      background-color: #3B4455;\n",
              "      fill: #D2E3FC;\n",
              "    }\n",
              "\n",
              "    [theme=dark] .colab-df-convert:hover {\n",
              "      background-color: #434B5C;\n",
              "      box-shadow: 0px 1px 3px 1px rgba(0, 0, 0, 0.15);\n",
              "      filter: drop-shadow(0px 1px 2px rgba(0, 0, 0, 0.3));\n",
              "      fill: #FFFFFF;\n",
              "    }\n",
              "  </style>\n",
              "\n",
              "      <script>\n",
              "        const buttonEl =\n",
              "          document.querySelector('#df-6b42cf8c-ad9b-45c4-8a41-fe482c4f9cf6 button.colab-df-convert');\n",
              "        buttonEl.style.display =\n",
              "          google.colab.kernel.accessAllowed ? 'block' : 'none';\n",
              "\n",
              "        async function convertToInteractive(key) {\n",
              "          const element = document.querySelector('#df-6b42cf8c-ad9b-45c4-8a41-fe482c4f9cf6');\n",
              "          const dataTable =\n",
              "            await google.colab.kernel.invokeFunction('convertToInteractive',\n",
              "                                                     [key], {});\n",
              "          if (!dataTable) return;\n",
              "\n",
              "          const docLinkHtml = 'Like what you see? Visit the ' +\n",
              "            '<a target=\"_blank\" href=https://colab.research.google.com/notebooks/data_table.ipynb>data table notebook</a>'\n",
              "            + ' to learn more about interactive tables.';\n",
              "          element.innerHTML = '';\n",
              "          dataTable['output_type'] = 'display_data';\n",
              "          await google.colab.output.renderOutput(dataTable, element);\n",
              "          const docLink = document.createElement('div');\n",
              "          docLink.innerHTML = docLinkHtml;\n",
              "          element.appendChild(docLink);\n",
              "        }\n",
              "      </script>\n",
              "    </div>\n",
              "  </div>\n",
              "  "
            ]
          },
          "metadata": {},
          "execution_count": 28
        }
      ],
      "source": [
        "# Sort the dataset in 'ascending' order using the feature 'Mileage'\n",
        "sorted_data = data.sort_values('Mileage', ascending=True)\n",
        "sorted_data.head(10)\n"
      ]
    },
    {
      "cell_type": "markdown",
      "metadata": {
        "id": "FcQR7NMgtOSp"
      },
      "source": [
        "#### **Observations**\n",
        "* Mileage of cars can not be 0, so we should treat 0's as missing values. We will do it in the Feature Engineering part."
      ]
    },
    {
      "cell_type": "markdown",
      "metadata": {
        "id": "7Rwx-1ZuhU3D"
      },
      "source": [
        "## **Univariate Analysis**\n",
        "Univariate analysis is used to explore each variable in a data set, separately. It looks at the range of values, as well as the central tendency of the values. It can be done for both numerical and categorical variables."
      ]
    },
    {
      "cell_type": "markdown",
      "metadata": {
        "id": "XYmSIliuIrcy"
      },
      "source": [
        "## **1. Univariate Analysis - Numerical Data**\n",
        "Histograms and box plots help to visualize and describe numerical data. We use box plot and histogram to analyse the numerical columns."
      ]
    },
    {
      "cell_type": "code",
      "execution_count": 29,
      "metadata": {
        "id": "4IvqyxldtOSp"
      },
      "outputs": [],
      "source": [
        "# Let us write a function that will help us create a boxplot and histogram for any input numerical variable.\n",
        "# This function takes the numerical column as the input and returns the boxplots and histograms for the variable.\n",
        "\n",
        "def histogram_boxplot(feature, figsize = (15, 10), bins = None):\n",
        "\n",
        "    \"\"\" Boxplot and histogram combined\n",
        "\n",
        "    feature: 1-d feature array\n",
        "\n",
        "    figsize: size of fig (default (9, 8))\n",
        "\n",
        "    bins: number of bins (default None / auto)\n",
        "\n",
        "    \"\"\"\n",
        "    f2, (ax_box2, ax_hist2) = plt.subplots(nrows = 2, # Number of rows of the subplot grid = 2\n",
        "                                           sharex = True, # X-axis will be shared among all subplots\n",
        "                                           gridspec_kw = {\"height_ratios\": (.25, .75)},\n",
        "                                           figsize = figsize\n",
        "                                           ) # Creating the 2 subplots\n",
        "\n",
        "    sns.boxplot(feature, ax = ax_box2, showmeans = True, color = 'violet') # Boxplot will be created and a symbol will indicate the mean value of the column\n",
        "\n",
        "    sns.distplot(feature, kde = F, ax = ax_hist2, bins = bins, palette = \"winter\") if bins else sns.distplot(feature, kde = False, ax = ax_hist2) # For histogram\n",
        "\n",
        "    ax_hist2.axvline(np.mean(feature), color = 'green', linestyle = '--') # Add mean to the histogram\n",
        "\n",
        "    ax_hist2.axvline(np.median(feature), color = 'black', linestyle = '-') # Add median to the histogram"
      ]
    },
    {
      "cell_type": "markdown",
      "metadata": {
        "id": "63SJOZqbtOSp"
      },
      "source": [
        "**Let us plot histogram and box-plot for the feature 'Kilometers_Driven' to understand the distribution and outliers, if any.**"
      ]
    },
    {
      "cell_type": "code",
      "execution_count": 30,
      "metadata": {
        "id": "h3oGmDAktOSq",
        "colab": {
          "base_uri": "https://localhost:8080/",
          "height": 829
        },
        "outputId": "8c9e497d-d31d-4c07-8fde-9c0390912f0d"
      },
      "outputs": [
        {
          "output_type": "display_data",
          "data": {
            "text/plain": [
              "<Figure size 1500x1000 with 2 Axes>"
            ],
            "image/png": "[encoded data removed]"
          },
          "metadata": {}
        }
      ],
      "source": [
        "# Plot histogram and box-plot for 'Kilometers_Driven'\n",
        "histogram_boxplot(data['Kilometers_Driven'])"
      ]
    },
    {
      "cell_type": "markdown",
      "metadata": {
        "id": "J7VeOWAftOSq"
      },
      "source": [
        "**Think About It**: Kilometers_Driven is highly right-skewed. Can we use Log transformation of the feature to reduce/remove the skewness? Why can't we keep skewed data?"
      ]
    },
    {
      "cell_type": "code",
      "execution_count": 31,
      "metadata": {
        "id": "xvUxKBPetOSq",
        "colab": {
          "base_uri": "https://localhost:8080/",
          "height": 450
        },
        "outputId": "207ef3b5-c35e-4fdd-feb2-12059f712232"
      },
      "outputs": [
        {
          "output_type": "display_data",
          "data": {
            "text/plain": [
              "<Figure size 640x480 with 1 Axes>"
            ],
            "image/png": "[encoded data removed]"
          },
          "metadata": {}
        }
      ],
      "source": [
        "# Log transformation of the feature 'Kilometers_Driven'\n",
        "sns.distplot(np.log(data[\"Kilometers_Driven\"]), axlabel = \"Log(Kilometers_Driven)\");"
      ]
    },
    {
      "cell_type": "markdown",
      "metadata": {
        "id": "RhVfiCG6tOSq"
      },
      "source": [
        "**Observations and Insights: _____**"
      ]
    },
    {
      "cell_type": "code",
      "execution_count": null,
      "metadata": {
        "id": "MSobKz9jtOSr"
      },
      "outputs": [],
      "source": [
        "# We can add a transformed kilometers_driven feature in data\n",
        "data[\"kilometers_driven_log\"] = np.log(data[\"Kilometers_Driven\"])"
      ]
    },
    {
      "cell_type": "markdown",
      "metadata": {
        "id": "5IZEyt7NVL3Z"
      },
      "source": [
        "**Note:** Like Kilometers_Driven, the distribution of Price is also highly skewed, we can use log transformation on this column to see if that helps normalize the distribution. And add the transformed variable into the dataset. You can name the variable as **'price_log'**."
      ]
    },
    {
      "cell_type": "code",
      "execution_count": null,
      "metadata": {
        "id": "bU82nipkVL3Z"
      },
      "outputs": [],
      "source": [
        "# Plot histogram and box-plot for 'Price'"
      ]
    },
    {
      "cell_type": "code",
      "execution_count": null,
      "metadata": {
        "id": "s16uiRXFVL3Z"
      },
      "outputs": [],
      "source": [
        "# Log transformation of the feature 'Price'"
      ]
    },
    {
      "cell_type": "code",
      "execution_count": null,
      "metadata": {
        "id": "X_8uUAcEVL3Z"
      },
      "outputs": [],
      "source": [
        "# We can Add a transformed Price feature in data"
      ]
    },
    {
      "cell_type": "markdown",
      "metadata": {
        "id": "LaPbA-1ltOSr"
      },
      "source": [
        "**Note:** Try plotting histogram and box-plot for different numerical features and understand how the data looks like."
      ]
    },
    {
      "cell_type": "markdown",
      "metadata": {
        "id": "HwE0djBTtOSr"
      },
      "source": [
        "**Observations and Insights for all the plots: _____**\n"
      ]
    },
    {
      "cell_type": "markdown",
      "metadata": {
        "id": "vjT3FFoDIrc3"
      },
      "source": [
        "## **2. Univariate analysis - Categorical Data**"
      ]
    },
    {
      "cell_type": "code",
      "execution_count": null,
      "metadata": {
        "id": "MZZW1y_ctOSt"
      },
      "outputs": [],
      "source": [
        "# Let us write a function that will help us create barplots that indicate the percentage for each category.\n",
        "# This function takes the categorical column as the input and returns the barplots for the variable.\n",
        "\n",
        "def perc_on_bar(z):\n",
        "    '''\n",
        "    plot\n",
        "    feature: categorical feature\n",
        "    the function won't work if a column is passed in hue parameter\n",
        "    '''\n",
        "\n",
        "    total = len(data[z]) # Length of the column\n",
        "\n",
        "    plt.figure(figsize = (15, 5))\n",
        "\n",
        "    ax = sns.countplot(data[z], palette = 'Paired', order = data[z].value_counts().index)\n",
        "\n",
        "    for p in ax.patches:\n",
        "\n",
        "        percentage = '{:.1f}%'.format(100 * p.get_height() / total) # Percentage of each class of the category\n",
        "\n",
        "        x = p.get_x() + p.get_width() / 2 - 0.05 # Width of the plot\n",
        "\n",
        "        y = p.get_y() + p.get_height()           # Hieght of the plot\n",
        "\n",
        "        ax.annotate(percentage, (x, y), size = 12) # Annotate the percantage\n",
        "\n",
        "    plt.show() # Show the plot"
      ]
    },
    {
      "cell_type": "markdown",
      "metadata": {
        "id": "lY4PNN04tOSt"
      },
      "source": [
        "**Let us plot barplot for the variable location. It will be helpful to know the number of percentage of cars from each city.**"
      ]
    },
    {
      "cell_type": "code",
      "execution_count": null,
      "metadata": {
        "id": "OOLcER6KtOSu"
      },
      "outputs": [],
      "source": [
        "# Bar Plot for 'Location'\n",
        "perc_on_bar('Location')"
      ]
    },
    {
      "cell_type": "markdown",
      "metadata": {
        "id": "ggQtrIJmVL3a"
      },
      "source": [
        "**Note:** Explore for other variables like Year, Fuel_Type, Transmission, Owner_Type`."
      ]
    },
    {
      "cell_type": "markdown",
      "metadata": {
        "id": "GmPUFwWQtOSu"
      },
      "source": [
        "**Observations and Insights from all plots: _____**"
      ]
    },
    {
      "cell_type": "markdown",
      "metadata": {
        "id": "beo_tDmVhU3-"
      },
      "source": [
        "## **Bivariate Analysis**"
      ]
    },
    {
      "cell_type": "markdown",
      "metadata": {
        "id": "8xmd6go2Irc5"
      },
      "source": [
        "### **1. Scatter plot**\n",
        "A scatter plot allows us to see relationships between two variables.\n",
        "\n",
        "**Note: Use log transformed values 'kilometers_driven_log' and 'price_log'**"
      ]
    },
    {
      "cell_type": "code",
      "execution_count": null,
      "metadata": {
        "id": "aB4nfBtqVL3b"
      },
      "outputs": [],
      "source": [
        "# Let us plot pair plot for the variables 'year' and 'price_log'\n",
        "data.plot(x = 'price_log', y = 'Year', style = 'o')"
      ]
    },
    {
      "cell_type": "markdown",
      "metadata": {
        "id": "v107OPbgVL3b"
      },
      "source": [
        "<b>Note:</b> Try to explore different combinations of independent variables and dependent variable. Understand the relationship between all variables."
      ]
    },
    {
      "cell_type": "markdown",
      "metadata": {
        "id": "JipnN20DVL3b"
      },
      "source": [
        "**Observations and Insights from all plots: _____**\n"
      ]
    },
    {
      "cell_type": "markdown",
      "metadata": {
        "id": "Z8svlVbWtOSy"
      },
      "source": [
        "### **2. Heat map**\n",
        "Heat map shows a 2D correlation matrix between two numerical features."
      ]
    },
    {
      "cell_type": "code",
      "execution_count": null,
      "metadata": {
        "id": "obYRQMiytOSy"
      },
      "outputs": [],
      "source": [
        "# We can include the log transformation values and drop the original skewed data columns\n",
        "plt.figure(figsize = (12, 7))\n",
        "\n",
        "sns.heatmap(data.drop([________],axis = 1).corr(), annot = True, vmin = -1, vmax = 1)\n",
        "\n",
        "plt.show()"
      ]
    },
    {
      "cell_type": "markdown",
      "metadata": {
        "id": "p8FZxksptOSy"
      },
      "source": [
        "**Observations and Insights: _____**"
      ]
    },
    {
      "cell_type": "markdown",
      "metadata": {
        "id": "XoilGTkZIrc6"
      },
      "source": [
        "### **3. Box plot**"
      ]
    },
    {
      "cell_type": "code",
      "execution_count": null,
      "metadata": {
        "id": "LqGH0RvCtOSy"
      },
      "outputs": [],
      "source": [
        "# Let us write a function that will help us create boxplot w.r.t Price for any input categorical variable.\n",
        "# This function takes the categorical column as the input and returns the boxplots for the variable.\n",
        "def boxplot(z):\n",
        "\n",
        "    plt.figure(figsize = (12, 5)) # Setting size of boxplot\n",
        "\n",
        "    sns.boxplot(x = z, y = data['Price']) # Defining x and y\n",
        "\n",
        "    plt.show()\n",
        "\n",
        "    plt.figure(figsize = (12, 5))\n",
        "\n",
        "    plt.title('Without Outliers')\n",
        "\n",
        "    sns.boxplot(x = z, y = data['Price'], showfliers = False) # Turning off the outliers\n",
        "\n",
        "    plt.show()"
      ]
    },
    {
      "cell_type": "markdown",
      "metadata": {
        "id": "eXvYdYGCVL3b"
      },
      "source": [
        "#### Let us now plot bivariate analysis of target variable with a categorical variable 'Location'"
      ]
    },
    {
      "cell_type": "code",
      "execution_count": null,
      "metadata": {
        "id": "V9Xj3jNntOSz"
      },
      "outputs": [],
      "source": [
        "# Box Plot: Price vs Location\n",
        "boxplot(data['Location'])"
      ]
    },
    {
      "cell_type": "markdown",
      "metadata": {
        "id": "hK3wD0GyVL3c"
      },
      "source": [
        "<b>Note: </b> Explore by plotting box-plots for target variable and the other categorical variables like Fuel_Type, transmission, Owner_type."
      ]
    },
    {
      "cell_type": "markdown",
      "metadata": {
        "id": "sMoRw1rStOSz"
      },
      "source": [
        "**Observations and Insights for all plots:__**\n"
      ]
    },
    {
      "cell_type": "markdown",
      "metadata": {
        "id": "70E7M7KJtOS1"
      },
      "source": [
        "### **Feature Engineering**"
      ]
    },
    {
      "cell_type": "markdown",
      "metadata": {
        "id": "TD7mqJI6tOS1"
      },
      "source": [
        "**Think about it:** The `Name` column in the current format might not be very useful in our analysis.\n",
        "Since the name contains both the brand name and the model name of the vehicle, the column would have too many unique values to be useful in prediction. Can we extract that information from that column?"
      ]
    },
    {
      "cell_type": "code",
      "execution_count": null,
      "metadata": {
        "id": "lWAvXGk6oxU0"
      },
      "outputs": [],
      "source": [
        "data[\"Name\"].________()"
      ]
    },
    {
      "cell_type": "markdown",
      "metadata": {
        "id": "Z1bl_6rztOS1"
      },
      "source": [
        "* **Hint:** With 2041 unique names, car names are not going to be great predictors of the price in our current data. But we can process this column to extract important information for example brand name."
      ]
    },
    {
      "cell_type": "code",
      "execution_count": null,
      "metadata": {
        "id": "kcWJ3fJQoxU0"
      },
      "outputs": [],
      "source": [
        "# Extract Brand Names\n",
        "data[\"Brand\"] = data[\"Name\"].apply(lambda x: x.split(\" \")[0].lower())"
      ]
    },
    {
      "cell_type": "code",
      "execution_count": null,
      "metadata": {
        "id": "UlnYDqVeoxU1"
      },
      "outputs": [],
      "source": [
        "# Extract Model Names"
      ]
    },
    {
      "cell_type": "markdown",
      "metadata": {
        "id": "cPMwjKyhtOS3"
      },
      "source": [
        "#### **Observations and Insights: _____**"
      ]
    },
    {
      "cell_type": "markdown",
      "metadata": {
        "id": "2N4fU3TetOS3"
      },
      "source": [
        "### **Missing value treatment**"
      ]
    },
    {
      "cell_type": "code",
      "execution_count": null,
      "metadata": {
        "id": "fqZJaxW-tOS4"
      },
      "outputs": [],
      "source": [
        "# Now check the missing values of each column. Hint: Use isnull() method"
      ]
    },
    {
      "cell_type": "markdown",
      "metadata": {
        "id": "9D0K7dWHtOS4"
      },
      "source": [
        "#### **Observations and Insights: _____**"
      ]
    },
    {
      "cell_type": "markdown",
      "metadata": {
        "id": "0g1JA9HltOS4"
      },
      "source": [
        "**Missing values in Seats**"
      ]
    },
    {
      "cell_type": "code",
      "execution_count": null,
      "metadata": {
        "id": "0ygbJcoOtOS4",
        "scrolled": true
      },
      "outputs": [],
      "source": [
        "# Checking missing values in the column 'Seats'"
      ]
    },
    {
      "cell_type": "markdown",
      "metadata": {
        "id": "Tg0mIMdxVL3d"
      },
      "source": [
        "**Think about it:** Can we somehow use the extracted information from 'Name' column to impute missing values?"
      ]
    },
    {
      "cell_type": "markdown",
      "metadata": {
        "id": "wErCOPkStOS4",
        "outputId": "0b6d3b63-47a9-4aba-b053-024e186d1d7e"
      },
      "source": [
        "**Hint:** Impute these missing values one by one, by taking median number of seats for the particular car, using the Brand and Model name.\n"
      ]
    },
    {
      "cell_type": "code",
      "execution_count": null,
      "metadata": {
        "id": "mIoatRh9tOS4"
      },
      "outputs": [],
      "source": [
        "# Impute missing values in Seats,you can use fillna method in pandas"
      ]
    },
    {
      "cell_type": "code",
      "execution_count": null,
      "metadata": {
        "id": "YS4QIbWPtOS5"
      },
      "outputs": [],
      "source": [
        "# Now check total number of missing values of the seat column to verify if they are imputed or not. Hint: Use isnull() method"
      ]
    },
    {
      "cell_type": "markdown",
      "metadata": {
        "id": "wjaNSFLRtOS5"
      },
      "source": [
        "**Missing values for Mileage**"
      ]
    },
    {
      "cell_type": "code",
      "execution_count": null,
      "metadata": {
        "id": "DRXO50mXVL3d"
      },
      "outputs": [],
      "source": [
        "# Now check missing values of each column. Hint: Use isnull() method"
      ]
    },
    {
      "cell_type": "code",
      "execution_count": null,
      "metadata": {
        "id": "Etr9nkEKtOS6"
      },
      "outputs": [],
      "source": [
        "# Impute missing Mileage. For example, use can use median or any other methods."
      ]
    },
    {
      "cell_type": "code",
      "execution_count": null,
      "metadata": {
        "id": "RWH5k6nAtOS6"
      },
      "outputs": [],
      "source": [
        "# Now check total number of missing values of the seat column to verify if they are imputed or not. Hint: Use isnull() method"
      ]
    },
    {
      "cell_type": "markdown",
      "metadata": {
        "id": "SSRXU5m3tOS6"
      },
      "source": [
        "**Missing values for Engine**"
      ]
    },
    {
      "cell_type": "code",
      "execution_count": null,
      "metadata": {
        "id": "wy9Gqxg-tOS6"
      },
      "outputs": [],
      "source": [
        "# Impute missing values in the column Engine"
      ]
    },
    {
      "cell_type": "markdown",
      "metadata": {
        "id": "Py_n-7fLtOS6"
      },
      "source": [
        "**Missing values for Power**"
      ]
    },
    {
      "cell_type": "code",
      "execution_count": null,
      "metadata": {
        "id": "2WsE1-VftOS7"
      },
      "outputs": [],
      "source": [
        "# Impute missing values in the column Power"
      ]
    },
    {
      "cell_type": "markdown",
      "metadata": {
        "id": "D69-3ZiCtOS7"
      },
      "source": [
        "**Missing values for New_price**"
      ]
    },
    {
      "cell_type": "code",
      "execution_count": null,
      "metadata": {
        "id": "53xzbaWzVL3e"
      },
      "outputs": [],
      "source": [
        "# Impute missing values in the column New_price"
      ]
    },
    {
      "cell_type": "code",
      "execution_count": null,
      "metadata": {
        "id": "TFugQRa3oxVO"
      },
      "outputs": [],
      "source": [
        "# Drop the rows where 'Price' == NaN"
      ]
    },
    {
      "cell_type": "code",
      "execution_count": null,
      "metadata": {
        "id": "6yRXUbeaoxVO"
      },
      "outputs": [],
      "source": [
        "# Check the null values in the data"
      ]
    },
    {
      "cell_type": "markdown",
      "metadata": {
        "id": "0Rj8acAJtOS7"
      },
      "source": [
        "**Observations for missing values after imputing: _____**"
      ]
    },
    {
      "cell_type": "markdown",
      "source": [
        "## **Important Insights from EDA and Data Preprocessing**\n",
        "\n",
        "What are the the most important observations and insights from the data based on the EDA and Data Preprocessing performed?"
      ],
      "metadata": {
        "id": "83F6fzPDpy-0"
      }
    },
    {
      "cell_type": "markdown",
      "metadata": {
        "id": "Rzh8pcvmtOS8"
      },
      "source": [
        "## **Building Various Models**\n",
        "\n",
        "1. What we want to predict is the \"Price\". We will use the normalized version 'price_log' for modeling.\n",
        "2. Before we proceed to the model, we'll have to encode categorical features. We will drop categorical features like Name.\n",
        "3. We'll split the data into train and test, to be able to evaluate the model that we build on the train data.\n",
        "4. Build Regression models using train data.\n",
        "5. Evaluate the model performance."
      ]
    },
    {
      "cell_type": "markdown",
      "metadata": {
        "id": "0L-oAMItxLP-"
      },
      "source": [
        "### **Split the Data**"
      ]
    },
    {
      "cell_type": "markdown",
      "metadata": {
        "id": "Aat-Ne-ZVL3e"
      },
      "source": [
        "<li>Step1: Seperating the indepdent variables (X) and the dependent variable (y).\n",
        "<li>Step2: Encode the categorical variables in X using pd.dummies.\n",
        "<li>Step3: Split the data into train and test using train_test_split."
      ]
    },
    {
      "cell_type": "markdown",
      "metadata": {
        "id": "Cwh_IhfqVL3f"
      },
      "source": [
        "**Think about it:** Why we should drop 'Name','Price','price_log','Kilometers_Driven' from X before splitting?"
      ]
    },
    {
      "cell_type": "code",
      "execution_count": null,
      "metadata": {
        "id": "NTly1jIxtOS8"
      },
      "outputs": [],
      "source": [
        "# Step-1\n",
        "X = cars_data.drop(['Name','Price','price_log','Kilometers_Driven'], axis = 1)\n",
        "\n",
        "y = cars_data[[\"price_log\", \"Price\"]]"
      ]
    },
    {
      "cell_type": "code",
      "execution_count": null,
      "metadata": {
        "id": "vzCLGMzbVL3f"
      },
      "outputs": [],
      "source": [
        "# Step-2 Use pd.get_dummies(drop_first = True)\n",
        "X = pd.get_dummies(X, drop_first = True)"
      ]
    },
    {
      "cell_type": "code",
      "execution_count": null,
      "metadata": {
        "id": "JqVHLEHVRRKK"
      },
      "outputs": [],
      "source": [
        "# Step-3 Splitting data into training and test set:\n",
        "X_train, X_test, y_train, = train_test_split(X, y, test_size = 0.3, random_state = 1)\n",
        "\n",
        "print(X_train.shape, X_test.shape)"
      ]
    },
    {
      "cell_type": "code",
      "execution_count": null,
      "metadata": {
        "id": "glAH2vMFtOS8"
      },
      "outputs": [],
      "source": [
        "# Let us write a function for calculating r2_score and RMSE on train and test data\n",
        "# This function takes model as an input on which we have trained particular algorithm\n",
        "# The categorical column as the input and returns the boxplots and histograms for the variable\n",
        "\n",
        "def get_model_score(model, flag = True):\n",
        "    '''\n",
        "    model : regressor to predict values of X\n",
        "\n",
        "    '''\n",
        "    # Defining an empty list to store train and test results\n",
        "    score_list = []\n",
        "\n",
        "    pred_train = model.predict(X_train)\n",
        "\n",
        "    pred_train_ = np.exp(pred_train)\n",
        "\n",
        "    pred_test = model.predict(X_test)\n",
        "\n",
        "    pred_test_ = np.exp(pred_test)\n",
        "\n",
        "    train_r2 = metrics.r2_score(y_train['Price'], pred_train_)\n",
        "\n",
        "    test_r2 = metrics.r2_score(y_test['Price'], pred_test_)\n",
        "\n",
        "    train_rmse = metrics.mean_squared_error(y_train['Price'], pred_train_, squared = False)\n",
        "\n",
        "    test_rmse = metrics.mean_squared_error(y_test['Price'], pred_test_, squared = False)\n",
        "\n",
        "    # Adding all scores in the list\n",
        "    score_list.extend((train_r2, test_r2, train_rmse, test_rmse))\n",
        "\n",
        "    # If the flag is set to True then only the following print statements will be dispayed, the default value is True\n",
        "    if flag == True:\n",
        "\n",
        "        print(\"R-sqaure on training set : \", metrics.r2_score(y_train['Price'], pred_train_))\n",
        "\n",
        "        print(\"R-square on test set : \", metrics.r2_score(y_test['Price'], pred_test_))\n",
        "\n",
        "        print(\"RMSE on training set : \", np.sqrt(metrics.mean_squared_error(y_train['Price'], pred_train_)))\n",
        "\n",
        "        print(\"RMSE on test set : \", np.sqrt(metrics.mean_squared_error(y_test['Price'], pred_test_)))\n",
        "\n",
        "    # Returning the list with train and test scores\n",
        "    return score_list"
      ]
    },
    {
      "cell_type": "markdown",
      "metadata": {
        "id": "o8qcI692VL3g"
      },
      "source": [
        "<hr>"
      ]
    },
    {
      "cell_type": "markdown",
      "metadata": {
        "id": "gaj2riZFVL3g"
      },
      "source": [
        "For Regression Problems, some of the algorithms used are :<br>\n",
        "\n",
        "**1) Linear Regression** <br>\n",
        "**2) Ridge / Lasso Regression** <br>\n",
        "**3) Decision Trees** <br>\n",
        "**4) Random Forest** <br>"
      ]
    },
    {
      "cell_type": "markdown",
      "metadata": {
        "id": "xwL33RaztOS9"
      },
      "source": [
        "### **Fitting a linear model**"
      ]
    },
    {
      "cell_type": "markdown",
      "metadata": {
        "id": "kXj-84YCVL3h"
      },
      "source": [
        "Linear Regression can be implemented using: <br>\n",
        "\n",
        "**1) Sklearn:** https://scikit-learn.org/stable/modules/generated/sklearn.linear_model.LinearRegression.html <br>\n",
        "**2) Statsmodels:** https://www.statsmodels.org/stable/regression.html"
      ]
    },
    {
      "cell_type": "code",
      "execution_count": null,
      "metadata": {
        "id": "tABeKbbNVL3h"
      },
      "outputs": [],
      "source": [
        "# Import Linear Regression from sklearn\n",
        "from sklearn.linear_model import LinearRegression"
      ]
    },
    {
      "cell_type": "code",
      "execution_count": null,
      "metadata": {
        "id": "FT3gcKDetOS9"
      },
      "outputs": [],
      "source": [
        "# Create a linear regression model\n",
        "lr = LinearRegression()"
      ]
    },
    {
      "cell_type": "code",
      "execution_count": null,
      "metadata": {
        "id": "rMmX-FJatOS9"
      },
      "outputs": [],
      "source": [
        "# Fit linear regression model\n",
        "lr.fit(X_train, y_train['price_log'])"
      ]
    },
    {
      "cell_type": "code",
      "execution_count": null,
      "metadata": {
        "id": "ABshmMPAtOS9"
      },
      "outputs": [],
      "source": [
        "# Get score of the model\n",
        "LR_score = get_model_score(lr)"
      ]
    },
    {
      "cell_type": "markdown",
      "metadata": {
        "id": "NgNkZ0HctOS9"
      },
      "source": [
        "**Observations from results: _____**"
      ]
    },
    {
      "cell_type": "markdown",
      "metadata": {
        "id": "RNN1nlPqIrdC"
      },
      "source": [
        "**Important variables of Linear Regression**"
      ]
    },
    {
      "cell_type": "markdown",
      "metadata": {
        "id": "NyKxdVyhVL3i"
      },
      "source": [
        "Building a model using statsmodels."
      ]
    },
    {
      "cell_type": "code",
      "execution_count": null,
      "metadata": {
        "id": "vHyqhuVMIrdC",
        "scrolled": true
      },
      "outputs": [],
      "source": [
        "# Import Statsmodels\n",
        "import statsmodels.api as sm\n",
        "\n",
        "# Statsmodel api does not add a constant by default. We need to add it explicitly\n",
        "x_train = sm.add_constant(X_train)\n",
        "\n",
        "# Add constant to test data\n",
        "x_test = sm.add_constant(X_test)\n",
        "\n",
        "def build_ols_model(train):\n",
        "\n",
        "    # Create the model\n",
        "    olsmodel = sm.OLS(y_train[\"price_log\"], train)\n",
        "\n",
        "    return olsmodel.fit()\n",
        "\n",
        "\n",
        "# Fit linear model on new dataset\n",
        "olsmodel1 = build_ols_model(x_train)\n",
        "\n",
        "print(olsmodel1.summary())"
      ]
    },
    {
      "cell_type": "code",
      "execution_count": null,
      "metadata": {
        "id": "C01l5EucVL3i"
      },
      "outputs": [],
      "source": [
        "# Retrive Coeff values, p-values and store them in the dataframe\n",
        "olsmod = pd.DataFrame(olsmodel1.params, columns = ['coef'])\n",
        "\n",
        "olsmod['pval'] = olsmodel1.pvalues"
      ]
    },
    {
      "cell_type": "code",
      "execution_count": null,
      "metadata": {
        "id": "FbQQZacV9WMm"
      },
      "outputs": [],
      "source": [
        "# Filter by significant p-value (pval <= 0.05) and sort descending by Odds ratio\n",
        "\n",
        "olsmod = olsmod.sort_values(by = \"pval\", ascending = False)\n",
        "\n",
        "pval_filter = olsmod['pval']<= 0.05\n",
        "\n",
        "olsmod[pval_filter]"
      ]
    },
    {
      "cell_type": "code",
      "execution_count": null,
      "metadata": {
        "id": "yjplRhssIrdC"
      },
      "outputs": [],
      "source": [
        "# We are looking are overall significant varaible\n",
        "\n",
        "pval_filter = olsmod['pval']<= 0.05\n",
        "imp_vars = olsmod[pval_filter].index.tolist()\n",
        "\n",
        "# We are going to get overall varaibles (un-one-hot encoded varables) from categorical varaibles\n",
        "sig_var = []\n",
        "for col in imp_vars:\n",
        "    if '' in col:\n",
        "        first_part = col.split('_')[0]\n",
        "        for c in cars_data.columns:\n",
        "            if first_part in c and c not in sig_var :\n",
        "                sig_var.append(c)\n",
        "\n",
        "\n",
        "start = '\\033[1m'\n",
        "end = '\\033[95m'\n",
        "print(start+ 'Most overall significant categorical varaibles of LINEAR REGRESSION  are ' +end,':\\n', sig_var)"
      ]
    },
    {
      "cell_type": "markdown",
      "metadata": {
        "id": "5uubmKLlVL3j"
      },
      "source": [
        "**Build Ridge / Lasso Regression similar to Linear Regression:**<br>\n",
        "\n",
        "https://scikit-learn.org/stable/modules/generated/sklearn.linear_model.Ridge.html"
      ]
    },
    {
      "cell_type": "code",
      "execution_count": null,
      "metadata": {
        "id": "9--bgDNhVL3j"
      },
      "outputs": [],
      "source": [
        "# Import Ridge/ Lasso Regression from sklearn"
      ]
    },
    {
      "cell_type": "code",
      "execution_count": null,
      "metadata": {
        "id": "TwSuk8Q9VL3j"
      },
      "outputs": [],
      "source": [
        "# Create a Ridge regression model"
      ]
    },
    {
      "cell_type": "code",
      "execution_count": null,
      "metadata": {
        "id": "5cWh1QK0VL3j"
      },
      "outputs": [],
      "source": [
        "# Fit Ridge regression model"
      ]
    },
    {
      "cell_type": "code",
      "execution_count": null,
      "metadata": {
        "id": "c2tIACYOVL3j"
      },
      "outputs": [],
      "source": [
        "# Get score of the model"
      ]
    },
    {
      "cell_type": "markdown",
      "metadata": {
        "id": "Mj3Yi8NYoxVk"
      },
      "source": [
        "**Observations from results: _____**"
      ]
    },
    {
      "cell_type": "markdown",
      "metadata": {
        "id": "owyg5IpstOS9"
      },
      "source": [
        "### **Decision Tree**\n",
        "\n",
        "https://scikit-learn.org/stable/auto_examples/tree/plot_tree_regression.html"
      ]
    },
    {
      "cell_type": "code",
      "execution_count": null,
      "metadata": {
        "id": "GjZeRER6VL3k"
      },
      "outputs": [],
      "source": [
        "# Import Decision tree for Regression from sklearn"
      ]
    },
    {
      "cell_type": "code",
      "execution_count": null,
      "metadata": {
        "id": "shBet9WztOS-"
      },
      "outputs": [],
      "source": [
        "# Create a decision tree regression model, use random_state = 1\n",
        "dtree = _____"
      ]
    },
    {
      "cell_type": "code",
      "execution_count": null,
      "metadata": {
        "id": "eJxVYVXXtOS-"
      },
      "outputs": [],
      "source": [
        "# Fit decision tree regression model\n",
        "dtree.fit(_______, _______)"
      ]
    },
    {
      "cell_type": "code",
      "execution_count": null,
      "metadata": {
        "id": "vGbEjda0tOS-"
      },
      "outputs": [],
      "source": [
        "# Get score of the model\n",
        "Dtree_model = get_model_score(_____)"
      ]
    },
    {
      "cell_type": "markdown",
      "metadata": {
        "id": "UrCgLVKwtOS-"
      },
      "source": [
        "**Observations from results: _____**"
      ]
    },
    {
      "cell_type": "markdown",
      "metadata": {
        "id": "6z2V0IwtVL3k"
      },
      "source": [
        "Print the importance of features in the tree building. The importance of a feature is computed as the (normalized) total reduction of the criterion brought by that feature. It is also known as the Gini importance.\n"
      ]
    },
    {
      "cell_type": "code",
      "execution_count": null,
      "metadata": {
        "id": "E8ro_i9vIrdF"
      },
      "outputs": [],
      "source": [
        "print(pd.DataFrame(dtree.feature_importances_, columns = [\"Imp\"], index = X_train.columns).sort_values(by = 'Imp', ascending = False))"
      ]
    },
    {
      "cell_type": "markdown",
      "metadata": {
        "id": "m9P0pzHHIrdG"
      },
      "source": [
        "**Observations and insights: _____**"
      ]
    },
    {
      "cell_type": "markdown",
      "metadata": {
        "id": "q8eFynaNtOS-"
      },
      "source": [
        "### **Random Forest**\n",
        "\n",
        "https://scikit-learn.org/stable/modules/generated/sklearn.ensemble.RandomForestRegressor.html"
      ]
    },
    {
      "cell_type": "code",
      "execution_count": null,
      "metadata": {
        "id": "Jhw-0FsNVL3l"
      },
      "outputs": [],
      "source": [
        "# Import Randomforest for Regression from sklearn"
      ]
    },
    {
      "cell_type": "code",
      "execution_count": null,
      "metadata": {
        "id": "-4S4FoDXtOS-"
      },
      "outputs": [],
      "source": [
        "# Create a Randomforest regression model"
      ]
    },
    {
      "cell_type": "code",
      "execution_count": null,
      "metadata": {
        "id": "gBlavhMTtOS-"
      },
      "outputs": [],
      "source": [
        "# Fit Randomforest regression model"
      ]
    },
    {
      "cell_type": "code",
      "execution_count": null,
      "metadata": {
        "id": "VLDDeeAGtOS_"
      },
      "outputs": [],
      "source": [
        "# Get score of the model"
      ]
    },
    {
      "cell_type": "markdown",
      "metadata": {
        "id": "ZGNTRfaitOS_"
      },
      "source": [
        "**Observations and insights: _____**"
      ]
    },
    {
      "cell_type": "markdown",
      "metadata": {
        "id": "pgwyNxUuIrdG"
      },
      "source": [
        "**Feature Importance**"
      ]
    },
    {
      "cell_type": "code",
      "execution_count": null,
      "metadata": {
        "id": "AWRS7zISIrdG"
      },
      "outputs": [],
      "source": [
        "# Print important features similar to decision trees"
      ]
    },
    {
      "cell_type": "markdown",
      "metadata": {
        "id": "cG9ZD9ozIrdH"
      },
      "source": [
        "**Observations and insights: _____**"
      ]
    },
    {
      "cell_type": "markdown",
      "metadata": {
        "id": "sw0dMSgetOS_"
      },
      "source": [
        "### **Hyperparameter Tuning: Decision Tree**"
      ]
    },
    {
      "cell_type": "code",
      "execution_count": null,
      "metadata": {
        "id": "4eF0aYHHtOS_"
      },
      "outputs": [],
      "source": [
        "# Choose the type of estimator\n",
        "dtree_tuned = __________(random_state = 1)\n",
        "\n",
        "# Grid of parameters to choose from\n",
        "# Check documentation for all the parametrs that the model takes and play with those\n",
        "parameters = {________________}\n",
        "\n",
        "# Type of scoring used to compare parameter combinations\n",
        "scorer = _________\n",
        "\n",
        "# Run the grid search\n",
        "grid_obj = GridSearchCV(_____________)\n",
        "grid_obj = grid_obj.fit(______________)\n",
        "\n",
        "# Set the model to the best combination of parameters\n",
        "dtree_tuned = grid_obj.best_estimator_\n",
        "\n",
        "# Fit the best algorithm to the data\n",
        "dtree_tuned.fit(____, ____)"
      ]
    },
    {
      "cell_type": "code",
      "execution_count": null,
      "metadata": {
        "id": "hctfJIAXtOS_"
      },
      "outputs": [],
      "source": [
        "# Get score of the dtree_tuned"
      ]
    },
    {
      "cell_type": "markdown",
      "metadata": {
        "id": "UsGmvq1StOS_"
      },
      "source": [
        "**Observations and insights: _____**"
      ]
    },
    {
      "cell_type": "markdown",
      "metadata": {
        "id": "5jssEF5eIrdH"
      },
      "source": [
        "**Feature Importance**"
      ]
    },
    {
      "cell_type": "code",
      "execution_count": null,
      "metadata": {
        "id": "OdzQWq8WtOTA"
      },
      "outputs": [],
      "source": [
        "# Print important features of tuned decision tree similar to decision trees"
      ]
    },
    {
      "cell_type": "markdown",
      "metadata": {
        "id": "-r8AR_VotOTB"
      },
      "source": [
        "**Observations and insights: _____**"
      ]
    },
    {
      "cell_type": "markdown",
      "metadata": {
        "id": "18uxHTy2tOTB"
      },
      "source": [
        "### **Hyperparameter Tuning: Random Forest**"
      ]
    },
    {
      "cell_type": "code",
      "execution_count": null,
      "metadata": {
        "id": "4P_Mj0JYtOTC"
      },
      "outputs": [],
      "source": [
        "# Choose the type of Regressor\n",
        "\n",
        "# Define the parameters for Grid to choose from\n",
        "\n",
        "# Check documentation for all the parametrs that the model takes and play with those\n",
        "\n",
        "# Type of scoring used to compare parameter combinations\n",
        "\n",
        "# Run the grid search\n",
        "\n",
        "# Set the model to the best combination of parameters\n",
        "\n",
        "# Fit the best algorithm to the data"
      ]
    },
    {
      "cell_type": "code",
      "execution_count": null,
      "metadata": {
        "id": "HSBtYgpctOTC"
      },
      "outputs": [],
      "source": [
        "# Get score of the model"
      ]
    },
    {
      "cell_type": "markdown",
      "metadata": {
        "id": "a1WHqIX9tOTC"
      },
      "source": [
        "**Observations and insights: _____**"
      ]
    },
    {
      "cell_type": "markdown",
      "metadata": {
        "id": "ItsgSUyiIrdI"
      },
      "source": [
        "**Feature Importance**"
      ]
    },
    {
      "cell_type": "code",
      "execution_count": null,
      "metadata": {
        "id": "9khvM2ZhtOTC"
      },
      "outputs": [],
      "source": [
        "# Print important features of tuned decision tree similar to decision trees"
      ]
    },
    {
      "cell_type": "markdown",
      "metadata": {
        "id": "PBoHEXnjtOTC"
      },
      "source": [
        "**Observations and insights: ______**"
      ]
    },
    {
      "cell_type": "markdown",
      "metadata": {
        "id": "TZrq2E9VtOTD"
      },
      "source": [
        "**Observations: _____**"
      ]
    },
    {
      "cell_type": "markdown",
      "metadata": {
        "id": "acSjU_ZFvyVt"
      },
      "source": [
        "**Note:** You can also try some other algorithms such as KNN and compare the model performance with the existing ones."
      ]
    },
    {
      "cell_type": "markdown",
      "source": [
        "## **Conclusions and Recommendations**"
      ],
      "metadata": {
        "id": "N0VA4NW3bVv5"
      }
    },
    {
      "cell_type": "markdown",
      "source": [
        "**1. Comparison of various techniques and their relative performance based on chosen Metric (Measure of success)**:\n",
        "- How do different techniques perform? Which one is performing relatively better? Is there scope to improve the performance further?"
      ],
      "metadata": {
        "id": "N5BT7Ocwqf5x"
      }
    },
    {
      "cell_type": "code",
      "execution_count": null,
      "metadata": {
        "id": "DCInk4Y8tOTC"
      },
      "outputs": [],
      "source": [
        "# Defining list of models you have trained\n",
        "models = [lr, dtree, __________________]\n",
        "\n",
        "# Defining empty lists to add train and test results\n",
        "r2_train = []\n",
        "r2_test = []\n",
        "rmse_train = []\n",
        "rmse_test = []\n",
        "\n",
        "# Looping through all the models to get the rmse and r2 scores\n",
        "for model in models:\n",
        "\n",
        "    # Accuracy score\n",
        "    j = get_model_score(model, False)\n",
        "\n",
        "    r2_train.append(j[0])\n",
        "\n",
        "    r2_test.append(j[1])\n",
        "\n",
        "    rmse_train.append(j[2])\n",
        "\n",
        "    rmse_test.append(j[3])"
      ]
    },
    {
      "cell_type": "code",
      "execution_count": null,
      "metadata": {
        "id": "zuLokC7xtOTD"
      },
      "outputs": [],
      "source": [
        "comparison_frame = pd.DataFrame({'Model':['Linear Regression','Decision Tree', ___________, ___________],\n",
        "                                          'Train_r2': r2_train,'Test_r2': r2_test,\n",
        "                                          'Train_RMSE': rmse_train,'Test_RMSE': rmse_test})\n",
        "comparison_frame"
      ]
    },
    {
      "cell_type": "markdown",
      "metadata": {
        "id": "rYFuDqFX29MI"
      },
      "source": [
        "**2. Refined insights:**\n",
        "- What are the most meaningful insights relevant to the problem?"
      ]
    },
    {
      "cell_type": "code",
      "source": [],
      "metadata": {
        "id": "2UvDkpbE3EDw"
      },
      "execution_count": null,
      "outputs": []
    },
    {
      "cell_type": "markdown",
      "metadata": {
        "id": "hK6PMGUtoxVx"
      },
      "source": [
        "**3. Proposal for the final solution design:**\n",
        "- What model do you propose to be adopted? Why is this the best solution to adopt? What are expected benefits and costs (assume numbers) of this solution design?"
      ]
    },
    {
      "cell_type": "code",
      "source": [],
      "metadata": {
        "id": "QfryLE-yya2J"
      },
      "execution_count": null,
      "outputs": []
    }
  ],
  "metadata": {
    "colab": {
      "collapsed_sections": [
        "vjT3FFoDIrc3",
        "8xmd6go2Irc5",
        "Z8svlVbWtOSy",
        "XoilGTkZIrc6",
        "70E7M7KJtOS1"
      ],
      "provenance": []
    },
    "kernelspec": {
      "display_name": "Python 3 (ipykernel)",
      "language": "python",
      "name": "python3"
    },
    "language_info": {
      "codemirror_mode": {
        "name": "ipython",
        "version": 3
      },
      "file_extension": ".py",
      "mimetype": "text/x-python",
      "name": "python",
      "nbconvert_exporter": "python",
      "pygments_lexer": "ipython3",
      "version": "3.9.13"
    }
  },
  "nbformat": 4,
  "nbformat_minor": 0
}